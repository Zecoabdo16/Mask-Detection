{
 "cells": [
  {
   "cell_type": "code",
   "execution_count": 2,
   "metadata": {
    "id": "O-IG0FPd7ZfG"
   },
   "outputs": [],
   "source": [
    "import keras\n",
    "from facedetection_v9 import FaceDetector\n",
    "\n",
    "import cv2\n",
    "import numpy as np\n",
    "import matplotlib.pyplot as plt\n",
    "from matplotlib.patches import Rectangle\n",
    "from keras.preprocessing.image import img_to_array"
   ]
  },
  {
   "cell_type": "code",
   "execution_count": 3,
   "metadata": {
    "id": "LGqynvz454tc"
   },
   "outputs": [],
   "source": [
    "detector = FaceDetector()"
   ]
  },
  {
   "cell_type": "code",
   "execution_count": 4,
   "metadata": {
    "id": "LBz5epSe7PPc"
   },
   "outputs": [],
   "source": [
    "model = keras.models.load_model('mask_detection_v3.h5')"
   ]
  },
  {
   "cell_type": "code",
   "execution_count": 9,
   "metadata": {
    "colab": {
     "base_uri": "https://localhost:8080/",
     "height": 331
    },
    "id": "K0BbcQBt6Ql5",
    "outputId": "bdf86124-2262-4234-ffd6-5d6521e7e6e9"
   },
   "outputs": [],
   "source": [
    "cap = cv2.VideoCapture(0)\n",
    "while True:\n",
    "    # Grab a single frame of video\n",
    "    ret, frame = cap.read()\n",
    "    frame,faces = detector.get_faces(frame,path=False)\n",
    "    \n",
    "    \n",
    "    imageHeight, imageWidth = frame.shape[:-1]\n",
    "    scale = 1 # this value can be from 0 to 1 (0,1] to change the size of the text relative to the image\n",
    "    fontScale = min(imageWidth,imageHeight)/(600/scale)\n",
    "\n",
    "\n",
    "\n",
    "    for face, box in faces:\n",
    "        face = cv2.resize(face,(128,128))\n",
    "        face = img_to_array(face)/255.0\n",
    "        face = cv2.cvtColor(face, cv2.COLOR_RGB2BGR)\n",
    "        face = np.array([face])\n",
    "\n",
    "        Masked = np.argmax(model.predict(face))\n",
    "        \n",
    "\n",
    "        if Masked:\n",
    "            cv2.putText(frame,'No Mask', (box[0], box[1]-5), cv2.FONT_HERSHEY_SIMPLEX, fontScale, (255,0,0), 2)\n",
    "            cv2.rectangle(frame, (box[0],box[1]), (box[2],box[3]), (255,0,0), 3)\n",
    "        else:\n",
    "            cv2.putText(frame,'Masked', (box[0], box[1]-5), cv2.FONT_HERSHEY_SIMPLEX, fontScale, (0,255,0), 2)\n",
    "            cv2.rectangle(frame, (box[0],box[1]), (box[2],box[3]), (0,255,0), 3)\n",
    "            \n",
    "    cv2.imshow('Mask Detector',cv2.cvtColor(frame, cv2.COLOR_RGB2BGR))\n",
    "    if cv2.waitKey(1) & 0xFF == ord('q'):\n",
    "        break\n",
    "\n",
    "cap.release()\n",
    "cv2.destroyAllWindows()       "
   ]
  },
  {
   "cell_type": "code",
   "execution_count": null,
   "metadata": {
    "id": "MfhlFCybpleU"
   },
   "outputs": [],
   "source": []
  }
 ],
 "metadata": {
  "colab": {
   "collapsed_sections": [],
   "name": "All_in_one_v2.ipynb",
   "provenance": []
  },
  "kernelspec": {
   "display_name": "Python 3",
   "language": "python",
   "name": "python3"
  },
  "language_info": {
   "codemirror_mode": {
    "name": "ipython",
    "version": 3
   },
   "file_extension": ".py",
   "mimetype": "text/x-python",
   "name": "python",
   "nbconvert_exporter": "python",
   "pygments_lexer": "ipython3",
   "version": "3.8.8"
  }
 },
 "nbformat": 4,
 "nbformat_minor": 1
}
