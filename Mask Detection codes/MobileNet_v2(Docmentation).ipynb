{
 "cells": [
  {
   "cell_type": "markdown",
   "metadata": {
    "id": "Jh5Bxz-udDYP"
   },
   "source": [
    "# **Mask Detection using customized model**"
   ]
  },
  {
   "cell_type": "markdown",
   "metadata": {
    "id": "GmzGu5PBd65H"
   },
   "source": [
    "#*Creating access to import Dataset from Kaggle to Google Colab*"
   ]
  },
  {
   "cell_type": "code",
   "execution_count": 1,
   "metadata": {
    "id": "0xukBy2DGlFS"
   },
   "outputs": [],
   "source": [
    "!pip install -q kaggle\n",
    "\n",
    "!mkdir -p ~/.kaggle\n",
    "!cp kaggle.json ~/.kaggle/\n",
    "\n",
    "# This permissions change avoids a warning on Kaggle tool startup.\n",
    "!chmod 600 ~/.kaggle/kaggle.json"
   ]
  },
  {
   "cell_type": "markdown",
   "metadata": {
    "id": "5IFmjsjUeMi8"
   },
   "source": [
    "#**Downloading the Dataset**"
   ]
  },
  {
   "cell_type": "code",
   "execution_count": 2,
   "metadata": {
    "colab": {
     "base_uri": "https://localhost:8080/"
    },
    "id": "q1YfYCOmGrj_",
    "outputId": "c8167893-48f2-4c4b-b5c9-d9c6eae9f6da"
   },
   "outputs": [
    {
     "name": "stdout",
     "output_type": "stream",
     "text": [
      "Downloading face-mask-12k-images-dataset.zip to /content\n",
      " 97% 321M/330M [00:03<00:00, 49.7MB/s]\n",
      "100% 330M/330M [00:03<00:00, 94.1MB/s]\n",
      "Downloading face-mask-detection.zip to /content\n",
      " 97% 384M/398M [00:03<00:00, 152MB/s]\n",
      "100% 398M/398M [00:03<00:00, 122MB/s]\n",
      "Downloading covid-face-mask-detection-dataset.zip to /content\n",
      " 97% 201M/207M [00:01<00:00, 117MB/s]\n",
      "100% 207M/207M [00:01<00:00, 120MB/s]\n"
     ]
    }
   ],
   "source": [
    "\n",
    "!kaggle datasets download -d ashishjangra27/face-mask-12k-images-dataset\n",
    "\n",
    "!kaggle datasets download -d andrewmvd/face-mask-detection\n",
    "!kaggle datasets download -d prithwirajmitra/covid-face-mask-detection-dataset"
   ]
  },
  {
   "cell_type": "markdown",
   "metadata": {
    "id": "oHHTvnuwegdm"
   },
   "source": [
    "**Extracting the ZIP File data format**\n"
   ]
  },
  {
   "cell_type": "code",
   "execution_count": 5,
   "metadata": {
    "id": "zv3O3nhRGtOI"
   },
   "outputs": [],
   "source": [
    "from zipfile import ZipFile\n",
    "file_name1='/content/face-mask-12k-images-dataset.zip'\n",
    "file_name2='/content/face-mask-detection.zip'\n",
    "file_name3='/content/covid-face-mask-detection-dataset.zip'\n",
    "for file in [file_name1, file_name2, file_name3]:\n",
    "    with ZipFile(file,'r') as zip:\n",
    "      zip.extractall()"
   ]
  },
  {
   "cell_type": "code",
   "execution_count": 6,
   "metadata": {
    "colab": {
     "base_uri": "https://localhost:8080/"
    },
    "id": "A0JLp39bx-zR",
    "outputId": "e832e3e3-a6ce-4274-98bb-e81834037b51"
   },
   "outputs": [
    {
     "name": "stdout",
     "output_type": "stream",
     "text": [
      "renamed 'New_Masks_Dataset/Train/Non_Mask/0.jpg' -> 'Face_Mask_Dataset/Train/WithoutMask/0.jpg'\n",
      "renamed 'New_Masks_Dataset/Train/Non_Mask/100.jpg' -> 'Face_Mask_Dataset/Train/WithoutMask/100.jpg'\n",
      "renamed 'New_Masks_Dataset/Train/Non_Mask/101.jpg' -> 'Face_Mask_Dataset/Train/WithoutMask/101.jpg'\n",
      "renamed 'New_Masks_Dataset/Train/Non_Mask/102.jpg' -> 'Face_Mask_Dataset/Train/WithoutMask/102.jpg'\n",
      "renamed 'New_Masks_Dataset/Train/Non_Mask/104.jpg' -> 'Face_Mask_Dataset/Train/WithoutMask/104.jpg'\n",
      "renamed 'New_Masks_Dataset/Train/Non_Mask/105.jpg' -> 'Face_Mask_Dataset/Train/WithoutMask/105.jpg'\n",
      "renamed 'New_Masks_Dataset/Train/Non_Mask/106.jpg' -> 'Face_Mask_Dataset/Train/WithoutMask/106.jpg'\n",
      "renamed 'New_Masks_Dataset/Train/Non_Mask/107.jpg' -> 'Face_Mask_Dataset/Train/WithoutMask/107.jpg'\n",
      "renamed 'New_Masks_Dataset/Train/Non_Mask/108.jpg' -> 'Face_Mask_Dataset/Train/WithoutMask/108.jpg'\n",
      "renamed 'New_Masks_Dataset/Train/Non_Mask/109.jpg' -> 'Face_Mask_Dataset/Train/WithoutMask/109.jpg'\n",
      "renamed 'New_Masks_Dataset/Train/Non_Mask/10.jpg' -> 'Face_Mask_Dataset/Train/WithoutMask/10.jpg'\n",
      "renamed 'New_Masks_Dataset/Train/Non_Mask/110.jpg' -> 'Face_Mask_Dataset/Train/WithoutMask/110.jpg'\n",
      "renamed 'New_Masks_Dataset/Train/Non_Mask/111.jpg' -> 'Face_Mask_Dataset/Train/WithoutMask/111.jpg'\n",
      "renamed 'New_Masks_Dataset/Train/Non_Mask/112.jpg' -> 'Face_Mask_Dataset/Train/WithoutMask/112.jpg'\n",
      "renamed 'New_Masks_Dataset/Train/Non_Mask/114.jpg' -> 'Face_Mask_Dataset/Train/WithoutMask/114.jpg'\n",
      "renamed 'New_Masks_Dataset/Train/Non_Mask/115.jpg' -> 'Face_Mask_Dataset/Train/WithoutMask/115.jpg'\n",
      "renamed 'New_Masks_Dataset/Train/Non_Mask/116.jpg' -> 'Face_Mask_Dataset/Train/WithoutMask/116.jpg'\n",
      "renamed 'New_Masks_Dataset/Train/Non_Mask/117.jpg' -> 'Face_Mask_Dataset/Train/WithoutMask/117.jpg'\n",
      "renamed 'New_Masks_Dataset/Train/Non_Mask/118.jpg' -> 'Face_Mask_Dataset/Train/WithoutMask/118.jpg'\n",
      "renamed 'New_Masks_Dataset/Train/Non_Mask/119.jpg' -> 'Face_Mask_Dataset/Train/WithoutMask/119.jpg'\n",
      "renamed 'New_Masks_Dataset/Train/Non_Mask/11.jpg' -> 'Face_Mask_Dataset/Train/WithoutMask/11.jpg'\n",
      "renamed 'New_Masks_Dataset/Train/Non_Mask/120.jpg' -> 'Face_Mask_Dataset/Train/WithoutMask/120.jpg'\n",
      "renamed 'New_Masks_Dataset/Train/Non_Mask/122.jpg' -> 'Face_Mask_Dataset/Train/WithoutMask/122.jpg'\n",
      "renamed 'New_Masks_Dataset/Train/Non_Mask/123.jpg' -> 'Face_Mask_Dataset/Train/WithoutMask/123.jpg'\n",
      "renamed 'New_Masks_Dataset/Train/Non_Mask/124.jpg' -> 'Face_Mask_Dataset/Train/WithoutMask/124.jpg'\n",
      "renamed 'New_Masks_Dataset/Train/Non_Mask/125.jpg' -> 'Face_Mask_Dataset/Train/WithoutMask/125.jpg'\n",
      "renamed 'New_Masks_Dataset/Train/Non_Mask/127.jpg' -> 'Face_Mask_Dataset/Train/WithoutMask/127.jpg'\n",
      "renamed 'New_Masks_Dataset/Train/Non_Mask/128.jpg' -> 'Face_Mask_Dataset/Train/WithoutMask/128.jpg'\n",
      "renamed 'New_Masks_Dataset/Train/Non_Mask/129.jpg' -> 'Face_Mask_Dataset/Train/WithoutMask/129.jpg'\n",
      "renamed 'New_Masks_Dataset/Train/Non_Mask/12.jpg' -> 'Face_Mask_Dataset/Train/WithoutMask/12.jpg'\n",
      "renamed 'New_Masks_Dataset/Train/Non_Mask/130.jpg' -> 'Face_Mask_Dataset/Train/WithoutMask/130.jpg'\n",
      "renamed 'New_Masks_Dataset/Train/Non_Mask/131.jpg' -> 'Face_Mask_Dataset/Train/WithoutMask/131.jpg'\n",
      "renamed 'New_Masks_Dataset/Train/Non_Mask/132.jpg' -> 'Face_Mask_Dataset/Train/WithoutMask/132.jpg'\n",
      "renamed 'New_Masks_Dataset/Train/Non_Mask/133.jpg' -> 'Face_Mask_Dataset/Train/WithoutMask/133.jpg'\n",
      "renamed 'New_Masks_Dataset/Train/Non_Mask/134.jpg' -> 'Face_Mask_Dataset/Train/WithoutMask/134.jpg'\n",
      "renamed 'New_Masks_Dataset/Train/Non_Mask/135.jpg' -> 'Face_Mask_Dataset/Train/WithoutMask/135.jpg'\n",
      "renamed 'New_Masks_Dataset/Train/Non_Mask/136.jpg' -> 'Face_Mask_Dataset/Train/WithoutMask/136.jpg'\n",
      "renamed 'New_Masks_Dataset/Train/Non_Mask/137.jpg' -> 'Face_Mask_Dataset/Train/WithoutMask/137.jpg'\n",
      "renamed 'New_Masks_Dataset/Train/Non_Mask/138.jpg' -> 'Face_Mask_Dataset/Train/WithoutMask/138.jpg'\n",
      "renamed 'New_Masks_Dataset/Train/Non_Mask/139.jpg' -> 'Face_Mask_Dataset/Train/WithoutMask/139.jpg'\n",
      "renamed 'New_Masks_Dataset/Train/Non_Mask/13.jpg' -> 'Face_Mask_Dataset/Train/WithoutMask/13.jpg'\n",
      "renamed 'New_Masks_Dataset/Train/Non_Mask/140.jpg' -> 'Face_Mask_Dataset/Train/WithoutMask/140.jpg'\n",
      "renamed 'New_Masks_Dataset/Train/Non_Mask/141.jpg' -> 'Face_Mask_Dataset/Train/WithoutMask/141.jpg'\n",
      "renamed 'New_Masks_Dataset/Train/Non_Mask/142.jpg' -> 'Face_Mask_Dataset/Train/WithoutMask/142.jpg'\n",
      "renamed 'New_Masks_Dataset/Train/Non_Mask/143.jpg' -> 'Face_Mask_Dataset/Train/WithoutMask/143.jpg'\n",
      "renamed 'New_Masks_Dataset/Train/Non_Mask/145.jpg' -> 'Face_Mask_Dataset/Train/WithoutMask/145.jpg'\n",
      "renamed 'New_Masks_Dataset/Train/Non_Mask/146.jpg' -> 'Face_Mask_Dataset/Train/WithoutMask/146.jpg'\n",
      "renamed 'New_Masks_Dataset/Train/Non_Mask/148.jpg' -> 'Face_Mask_Dataset/Train/WithoutMask/148.jpg'\n",
      "renamed 'New_Masks_Dataset/Train/Non_Mask/149.jpg' -> 'Face_Mask_Dataset/Train/WithoutMask/149.jpg'\n",
      "renamed 'New_Masks_Dataset/Train/Non_Mask/14.jpg' -> 'Face_Mask_Dataset/Train/WithoutMask/14.jpg'\n",
      "renamed 'New_Masks_Dataset/Train/Non_Mask/151.jpg' -> 'Face_Mask_Dataset/Train/WithoutMask/151.jpg'\n",
      "renamed 'New_Masks_Dataset/Train/Non_Mask/152.jpg' -> 'Face_Mask_Dataset/Train/WithoutMask/152.jpg'\n",
      "renamed 'New_Masks_Dataset/Train/Non_Mask/153.jpg' -> 'Face_Mask_Dataset/Train/WithoutMask/153.jpg'\n",
      "renamed 'New_Masks_Dataset/Train/Non_Mask/154.jpg' -> 'Face_Mask_Dataset/Train/WithoutMask/154.jpg'\n",
      "renamed 'New_Masks_Dataset/Train/Non_Mask/155.jpg' -> 'Face_Mask_Dataset/Train/WithoutMask/155.jpg'\n",
      "renamed 'New_Masks_Dataset/Train/Non_Mask/156.jpg' -> 'Face_Mask_Dataset/Train/WithoutMask/156.jpg'\n",
      "renamed 'New_Masks_Dataset/Train/Non_Mask/157.jpg' -> 'Face_Mask_Dataset/Train/WithoutMask/157.jpg'\n",
      "renamed 'New_Masks_Dataset/Train/Non_Mask/158.jpg' -> 'Face_Mask_Dataset/Train/WithoutMask/158.jpg'\n",
      "renamed 'New_Masks_Dataset/Train/Non_Mask/159.jpg' -> 'Face_Mask_Dataset/Train/WithoutMask/159.jpg'\n",
      "renamed 'New_Masks_Dataset/Train/Non_Mask/15.jpg' -> 'Face_Mask_Dataset/Train/WithoutMask/15.jpg'\n",
      "renamed 'New_Masks_Dataset/Train/Non_Mask/160.jpg' -> 'Face_Mask_Dataset/Train/WithoutMask/160.jpg'\n",
      "renamed 'New_Masks_Dataset/Train/Non_Mask/161.jpg' -> 'Face_Mask_Dataset/Train/WithoutMask/161.jpg'\n",
      "renamed 'New_Masks_Dataset/Train/Non_Mask/162.jpg' -> 'Face_Mask_Dataset/Train/WithoutMask/162.jpg'\n",
      "renamed 'New_Masks_Dataset/Train/Non_Mask/163.jpg' -> 'Face_Mask_Dataset/Train/WithoutMask/163.jpg'\n",
      "renamed 'New_Masks_Dataset/Train/Non_Mask/164.jpg' -> 'Face_Mask_Dataset/Train/WithoutMask/164.jpg'\n",
      "renamed 'New_Masks_Dataset/Train/Non_Mask/166.jpg' -> 'Face_Mask_Dataset/Train/WithoutMask/166.jpg'\n",
      "renamed 'New_Masks_Dataset/Train/Non_Mask/168.jpg' -> 'Face_Mask_Dataset/Train/WithoutMask/168.jpg'\n",
      "renamed 'New_Masks_Dataset/Train/Non_Mask/169.jpg' -> 'Face_Mask_Dataset/Train/WithoutMask/169.jpg'\n",
      "renamed 'New_Masks_Dataset/Train/Non_Mask/16.jpg' -> 'Face_Mask_Dataset/Train/WithoutMask/16.jpg'\n",
      "renamed 'New_Masks_Dataset/Train/Non_Mask/170.jpg' -> 'Face_Mask_Dataset/Train/WithoutMask/170.jpg'\n",
      "renamed 'New_Masks_Dataset/Train/Non_Mask/171.jpg' -> 'Face_Mask_Dataset/Train/WithoutMask/171.jpg'\n",
      "renamed 'New_Masks_Dataset/Train/Non_Mask/172.jpg' -> 'Face_Mask_Dataset/Train/WithoutMask/172.jpg'\n",
      "renamed 'New_Masks_Dataset/Train/Non_Mask/173.jpg' -> 'Face_Mask_Dataset/Train/WithoutMask/173.jpg'\n",
      "renamed 'New_Masks_Dataset/Train/Non_Mask/174.jpg' -> 'Face_Mask_Dataset/Train/WithoutMask/174.jpg'\n",
      "renamed 'New_Masks_Dataset/Train/Non_Mask/175.jpg' -> 'Face_Mask_Dataset/Train/WithoutMask/175.jpg'\n",
      "renamed 'New_Masks_Dataset/Train/Non_Mask/176.jpg' -> 'Face_Mask_Dataset/Train/WithoutMask/176.jpg'\n",
      "renamed 'New_Masks_Dataset/Train/Non_Mask/177.jpg' -> 'Face_Mask_Dataset/Train/WithoutMask/177.jpg'\n",
      "renamed 'New_Masks_Dataset/Train/Non_Mask/178.jpg' -> 'Face_Mask_Dataset/Train/WithoutMask/178.jpg'\n",
      "renamed 'New_Masks_Dataset/Train/Non_Mask/179.jpg' -> 'Face_Mask_Dataset/Train/WithoutMask/179.jpg'\n",
      "renamed 'New_Masks_Dataset/Train/Non_Mask/17.jpg' -> 'Face_Mask_Dataset/Train/WithoutMask/17.jpg'\n",
      "renamed 'New_Masks_Dataset/Train/Non_Mask/180.jpg' -> 'Face_Mask_Dataset/Train/WithoutMask/180.jpg'\n",
      "renamed 'New_Masks_Dataset/Train/Non_Mask/181.jpg' -> 'Face_Mask_Dataset/Train/WithoutMask/181.jpg'\n",
      "renamed 'New_Masks_Dataset/Train/Non_Mask/183.jpg' -> 'Face_Mask_Dataset/Train/WithoutMask/183.jpg'\n",
      "renamed 'New_Masks_Dataset/Train/Non_Mask/184.jpg' -> 'Face_Mask_Dataset/Train/WithoutMask/184.jpg'\n",
      "renamed 'New_Masks_Dataset/Train/Non_Mask/185.jpg' -> 'Face_Mask_Dataset/Train/WithoutMask/185.jpg'\n",
      "renamed 'New_Masks_Dataset/Train/Non_Mask/186.jpg' -> 'Face_Mask_Dataset/Train/WithoutMask/186.jpg'\n",
      "renamed 'New_Masks_Dataset/Train/Non_Mask/187.jpg' -> 'Face_Mask_Dataset/Train/WithoutMask/187.jpg'\n",
      "renamed 'New_Masks_Dataset/Train/Non_Mask/188.jpg' -> 'Face_Mask_Dataset/Train/WithoutMask/188.jpg'\n",
      "renamed 'New_Masks_Dataset/Train/Non_Mask/18.jpg' -> 'Face_Mask_Dataset/Train/WithoutMask/18.jpg'\n",
      "renamed 'New_Masks_Dataset/Train/Non_Mask/191.jpg' -> 'Face_Mask_Dataset/Train/WithoutMask/191.jpg'\n",
      "renamed 'New_Masks_Dataset/Train/Non_Mask/192.jpg' -> 'Face_Mask_Dataset/Train/WithoutMask/192.jpg'\n",
      "renamed 'New_Masks_Dataset/Train/Non_Mask/193.jpg' -> 'Face_Mask_Dataset/Train/WithoutMask/193.jpg'\n",
      "renamed 'New_Masks_Dataset/Train/Non_Mask/194.jpg' -> 'Face_Mask_Dataset/Train/WithoutMask/194.jpg'\n",
      "renamed 'New_Masks_Dataset/Train/Non_Mask/195.jpg' -> 'Face_Mask_Dataset/Train/WithoutMask/195.jpg'\n",
      "renamed 'New_Masks_Dataset/Train/Non_Mask/196.jpg' -> 'Face_Mask_Dataset/Train/WithoutMask/196.jpg'\n",
      "renamed 'New_Masks_Dataset/Train/Non_Mask/197.jpg' -> 'Face_Mask_Dataset/Train/WithoutMask/197.jpg'\n",
      "renamed 'New_Masks_Dataset/Train/Non_Mask/198.jpg' -> 'Face_Mask_Dataset/Train/WithoutMask/198.jpg'\n",
      "renamed 'New_Masks_Dataset/Train/Non_Mask/19.jpg' -> 'Face_Mask_Dataset/Train/WithoutMask/19.jpg'\n",
      "renamed 'New_Masks_Dataset/Train/Non_Mask/1.jpg' -> 'Face_Mask_Dataset/Train/WithoutMask/1.jpg'\n",
      "renamed 'New_Masks_Dataset/Train/Non_Mask/201.jpg' -> 'Face_Mask_Dataset/Train/WithoutMask/201.jpg'\n",
      "renamed 'New_Masks_Dataset/Train/Non_Mask/203.jpg' -> 'Face_Mask_Dataset/Train/WithoutMask/203.jpg'\n",
      "renamed 'New_Masks_Dataset/Train/Non_Mask/204.jpg' -> 'Face_Mask_Dataset/Train/WithoutMask/204.jpg'\n",
      "renamed 'New_Masks_Dataset/Train/Non_Mask/206.jpg' -> 'Face_Mask_Dataset/Train/WithoutMask/206.jpg'\n",
      "renamed 'New_Masks_Dataset/Train/Non_Mask/207.jpg' -> 'Face_Mask_Dataset/Train/WithoutMask/207.jpg'\n",
      "renamed 'New_Masks_Dataset/Train/Non_Mask/208.jpg' -> 'Face_Mask_Dataset/Train/WithoutMask/208.jpg'\n",
      "renamed 'New_Masks_Dataset/Train/Non_Mask/20.jpg' -> 'Face_Mask_Dataset/Train/WithoutMask/20.jpg'\n",
      "renamed 'New_Masks_Dataset/Train/Non_Mask/210.jpg' -> 'Face_Mask_Dataset/Train/WithoutMask/210.jpg'\n",
      "renamed 'New_Masks_Dataset/Train/Non_Mask/211.jpg' -> 'Face_Mask_Dataset/Train/WithoutMask/211.jpg'\n",
      "renamed 'New_Masks_Dataset/Train/Non_Mask/212.jpg' -> 'Face_Mask_Dataset/Train/WithoutMask/212.jpg'\n",
      "renamed 'New_Masks_Dataset/Train/Non_Mask/213.jpg' -> 'Face_Mask_Dataset/Train/WithoutMask/213.jpg'\n",
      "renamed 'New_Masks_Dataset/Train/Non_Mask/214.jpg' -> 'Face_Mask_Dataset/Train/WithoutMask/214.jpg'\n",
      "renamed 'New_Masks_Dataset/Train/Non_Mask/215.jpg' -> 'Face_Mask_Dataset/Train/WithoutMask/215.jpg'\n",
      "renamed 'New_Masks_Dataset/Train/Non_Mask/216.jpg' -> 'Face_Mask_Dataset/Train/WithoutMask/216.jpg'\n",
      "renamed 'New_Masks_Dataset/Train/Non_Mask/217.jpg' -> 'Face_Mask_Dataset/Train/WithoutMask/217.jpg'\n",
      "renamed 'New_Masks_Dataset/Train/Non_Mask/218.jpg' -> 'Face_Mask_Dataset/Train/WithoutMask/218.jpg'\n",
      "renamed 'New_Masks_Dataset/Train/Non_Mask/220.jpg' -> 'Face_Mask_Dataset/Train/WithoutMask/220.jpg'\n",
      "renamed 'New_Masks_Dataset/Train/Non_Mask/221.jpg' -> 'Face_Mask_Dataset/Train/WithoutMask/221.jpg'\n",
      "renamed 'New_Masks_Dataset/Train/Non_Mask/222.jpg' -> 'Face_Mask_Dataset/Train/WithoutMask/222.jpg'\n",
      "renamed 'New_Masks_Dataset/Train/Non_Mask/223.jpg' -> 'Face_Mask_Dataset/Train/WithoutMask/223.jpg'\n",
      "renamed 'New_Masks_Dataset/Train/Non_Mask/224.jpg' -> 'Face_Mask_Dataset/Train/WithoutMask/224.jpg'\n",
      "renamed 'New_Masks_Dataset/Train/Non_Mask/225.jpg' -> 'Face_Mask_Dataset/Train/WithoutMask/225.jpg'\n",
      "renamed 'New_Masks_Dataset/Train/Non_Mask/226.jpg' -> 'Face_Mask_Dataset/Train/WithoutMask/226.jpg'\n",
      "renamed 'New_Masks_Dataset/Train/Non_Mask/227.jpg' -> 'Face_Mask_Dataset/Train/WithoutMask/227.jpg'\n",
      "renamed 'New_Masks_Dataset/Train/Non_Mask/228.jpg' -> 'Face_Mask_Dataset/Train/WithoutMask/228.jpg'\n",
      "renamed 'New_Masks_Dataset/Train/Non_Mask/229.jpg' -> 'Face_Mask_Dataset/Train/WithoutMask/229.jpg'\n",
      "renamed 'New_Masks_Dataset/Train/Non_Mask/22.jpg' -> 'Face_Mask_Dataset/Train/WithoutMask/22.jpg'\n",
      "renamed 'New_Masks_Dataset/Train/Non_Mask/230.jpg' -> 'Face_Mask_Dataset/Train/WithoutMask/230.jpg'\n",
      "renamed 'New_Masks_Dataset/Train/Non_Mask/231.jpg' -> 'Face_Mask_Dataset/Train/WithoutMask/231.jpg'\n",
      "renamed 'New_Masks_Dataset/Train/Non_Mask/232.jpg' -> 'Face_Mask_Dataset/Train/WithoutMask/232.jpg'\n",
      "renamed 'New_Masks_Dataset/Train/Non_Mask/233.jpg' -> 'Face_Mask_Dataset/Train/WithoutMask/233.jpg'\n",
      "renamed 'New_Masks_Dataset/Train/Non_Mask/234.jpg' -> 'Face_Mask_Dataset/Train/WithoutMask/234.jpg'\n",
      "renamed 'New_Masks_Dataset/Train/Non_Mask/237.jpg' -> 'Face_Mask_Dataset/Train/WithoutMask/237.jpg'\n",
      "renamed 'New_Masks_Dataset/Train/Non_Mask/239.jpg' -> 'Face_Mask_Dataset/Train/WithoutMask/239.jpg'\n",
      "renamed 'New_Masks_Dataset/Train/Non_Mask/23.jpg' -> 'Face_Mask_Dataset/Train/WithoutMask/23.jpg'\n",
      "renamed 'New_Masks_Dataset/Train/Non_Mask/240.jpg' -> 'Face_Mask_Dataset/Train/WithoutMask/240.jpg'\n",
      "renamed 'New_Masks_Dataset/Train/Non_Mask/241.jpg' -> 'Face_Mask_Dataset/Train/WithoutMask/241.jpg'\n",
      "renamed 'New_Masks_Dataset/Train/Non_Mask/242.jpg' -> 'Face_Mask_Dataset/Train/WithoutMask/242.jpg'\n",
      "renamed 'New_Masks_Dataset/Train/Non_Mask/243.jpg' -> 'Face_Mask_Dataset/Train/WithoutMask/243.jpg'\n",
      "renamed 'New_Masks_Dataset/Train/Non_Mask/244.jpg' -> 'Face_Mask_Dataset/Train/WithoutMask/244.jpg'\n",
      "renamed 'New_Masks_Dataset/Train/Non_Mask/246.jpg' -> 'Face_Mask_Dataset/Train/WithoutMask/246.jpg'\n",
      "renamed 'New_Masks_Dataset/Train/Non_Mask/247.jpg' -> 'Face_Mask_Dataset/Train/WithoutMask/247.jpg'\n",
      "renamed 'New_Masks_Dataset/Train/Non_Mask/248.jpg' -> 'Face_Mask_Dataset/Train/WithoutMask/248.jpg'\n",
      "renamed 'New_Masks_Dataset/Train/Non_Mask/249.jpg' -> 'Face_Mask_Dataset/Train/WithoutMask/249.jpg'\n",
      "renamed 'New_Masks_Dataset/Train/Non_Mask/24.jpg' -> 'Face_Mask_Dataset/Train/WithoutMask/24.jpg'\n",
      "renamed 'New_Masks_Dataset/Train/Non_Mask/250.jpg' -> 'Face_Mask_Dataset/Train/WithoutMask/250.jpg'\n",
      "renamed 'New_Masks_Dataset/Train/Non_Mask/251.jpg' -> 'Face_Mask_Dataset/Train/WithoutMask/251.jpg'\n",
      "renamed 'New_Masks_Dataset/Train/Non_Mask/252.jpg' -> 'Face_Mask_Dataset/Train/WithoutMask/252.jpg'\n",
      "renamed 'New_Masks_Dataset/Train/Non_Mask/253.jpg' -> 'Face_Mask_Dataset/Train/WithoutMask/253.jpg'\n",
      "renamed 'New_Masks_Dataset/Train/Non_Mask/254.jpg' -> 'Face_Mask_Dataset/Train/WithoutMask/254.jpg'\n",
      "renamed 'New_Masks_Dataset/Train/Non_Mask/255.jpg' -> 'Face_Mask_Dataset/Train/WithoutMask/255.jpg'\n",
      "renamed 'New_Masks_Dataset/Train/Non_Mask/256.jpg' -> 'Face_Mask_Dataset/Train/WithoutMask/256.jpg'\n",
      "renamed 'New_Masks_Dataset/Train/Non_Mask/258.jpg' -> 'Face_Mask_Dataset/Train/WithoutMask/258.jpg'\n",
      "renamed 'New_Masks_Dataset/Train/Non_Mask/259.jpg' -> 'Face_Mask_Dataset/Train/WithoutMask/259.jpg'\n",
      "renamed 'New_Masks_Dataset/Train/Non_Mask/260.jpg' -> 'Face_Mask_Dataset/Train/WithoutMask/260.jpg'\n",
      "renamed 'New_Masks_Dataset/Train/Non_Mask/261.jpg' -> 'Face_Mask_Dataset/Train/WithoutMask/261.jpg'\n",
      "renamed 'New_Masks_Dataset/Train/Non_Mask/262.jpg' -> 'Face_Mask_Dataset/Train/WithoutMask/262.jpg'\n",
      "renamed 'New_Masks_Dataset/Train/Non_Mask/263.jpg' -> 'Face_Mask_Dataset/Train/WithoutMask/263.jpg'\n",
      "renamed 'New_Masks_Dataset/Train/Non_Mask/264.jpg' -> 'Face_Mask_Dataset/Train/WithoutMask/264.jpg'\n",
      "renamed 'New_Masks_Dataset/Train/Non_Mask/265.jpg' -> 'Face_Mask_Dataset/Train/WithoutMask/265.jpg'\n",
      "renamed 'New_Masks_Dataset/Train/Non_Mask/266.jpg' -> 'Face_Mask_Dataset/Train/WithoutMask/266.jpg'\n",
      "renamed 'New_Masks_Dataset/Train/Non_Mask/267.jpg' -> 'Face_Mask_Dataset/Train/WithoutMask/267.jpg'\n",
      "renamed 'New_Masks_Dataset/Train/Non_Mask/269.jpg' -> 'Face_Mask_Dataset/Train/WithoutMask/269.jpg'\n",
      "renamed 'New_Masks_Dataset/Train/Non_Mask/26.jpg' -> 'Face_Mask_Dataset/Train/WithoutMask/26.jpg'\n",
      "renamed 'New_Masks_Dataset/Train/Non_Mask/270.jpg' -> 'Face_Mask_Dataset/Train/WithoutMask/270.jpg'\n",
      "renamed 'New_Masks_Dataset/Train/Non_Mask/271.jpg' -> 'Face_Mask_Dataset/Train/WithoutMask/271.jpg'\n",
      "renamed 'New_Masks_Dataset/Train/Non_Mask/275.jpg' -> 'Face_Mask_Dataset/Train/WithoutMask/275.jpg'\n",
      "renamed 'New_Masks_Dataset/Train/Non_Mask/276.jpg' -> 'Face_Mask_Dataset/Train/WithoutMask/276.jpg'\n",
      "renamed 'New_Masks_Dataset/Train/Non_Mask/278.jpg' -> 'Face_Mask_Dataset/Train/WithoutMask/278.jpg'\n",
      "renamed 'New_Masks_Dataset/Train/Non_Mask/27.jpg' -> 'Face_Mask_Dataset/Train/WithoutMask/27.jpg'\n",
      "renamed 'New_Masks_Dataset/Train/Non_Mask/280.jpg' -> 'Face_Mask_Dataset/Train/WithoutMask/280.jpg'\n",
      "renamed 'New_Masks_Dataset/Train/Non_Mask/281.jpg' -> 'Face_Mask_Dataset/Train/WithoutMask/281.jpg'\n",
      "renamed 'New_Masks_Dataset/Train/Non_Mask/282.jpg' -> 'Face_Mask_Dataset/Train/WithoutMask/282.jpg'\n",
      "renamed 'New_Masks_Dataset/Train/Non_Mask/283.jpg' -> 'Face_Mask_Dataset/Train/WithoutMask/283.jpg'\n",
      "renamed 'New_Masks_Dataset/Train/Non_Mask/284.jpg' -> 'Face_Mask_Dataset/Train/WithoutMask/284.jpg'\n",
      "renamed 'New_Masks_Dataset/Train/Non_Mask/285.jpg' -> 'Face_Mask_Dataset/Train/WithoutMask/285.jpg'\n",
      "renamed 'New_Masks_Dataset/Train/Non_Mask/286.jpg' -> 'Face_Mask_Dataset/Train/WithoutMask/286.jpg'\n",
      "renamed 'New_Masks_Dataset/Train/Non_Mask/287.jpg' -> 'Face_Mask_Dataset/Train/WithoutMask/287.jpg'\n",
      "renamed 'New_Masks_Dataset/Train/Non_Mask/288.jpg' -> 'Face_Mask_Dataset/Train/WithoutMask/288.jpg'\n",
      "renamed 'New_Masks_Dataset/Train/Non_Mask/289.jpg' -> 'Face_Mask_Dataset/Train/WithoutMask/289.jpg'\n",
      "renamed 'New_Masks_Dataset/Train/Non_Mask/28.jpg' -> 'Face_Mask_Dataset/Train/WithoutMask/28.jpg'\n",
      "renamed 'New_Masks_Dataset/Train/Non_Mask/290.jpg' -> 'Face_Mask_Dataset/Train/WithoutMask/290.jpg'\n",
      "renamed 'New_Masks_Dataset/Train/Non_Mask/291.jpg' -> 'Face_Mask_Dataset/Train/WithoutMask/291.jpg'\n",
      "renamed 'New_Masks_Dataset/Train/Non_Mask/292.jpg' -> 'Face_Mask_Dataset/Train/WithoutMask/292.jpg'\n",
      "renamed 'New_Masks_Dataset/Train/Non_Mask/293.jpg' -> 'Face_Mask_Dataset/Train/WithoutMask/293.jpg'\n",
      "renamed 'New_Masks_Dataset/Train/Non_Mask/294.jpg' -> 'Face_Mask_Dataset/Train/WithoutMask/294.jpg'\n",
      "renamed 'New_Masks_Dataset/Train/Non_Mask/295.jpg' -> 'Face_Mask_Dataset/Train/WithoutMask/295.jpg'\n",
      "renamed 'New_Masks_Dataset/Train/Non_Mask/297.jpg' -> 'Face_Mask_Dataset/Train/WithoutMask/297.jpg'\n",
      "renamed 'New_Masks_Dataset/Train/Non_Mask/298.jpg' -> 'Face_Mask_Dataset/Train/WithoutMask/298.jpg'\n",
      "renamed 'New_Masks_Dataset/Train/Non_Mask/299.jpg' -> 'Face_Mask_Dataset/Train/WithoutMask/299.jpg'\n",
      "renamed 'New_Masks_Dataset/Train/Non_Mask/29.jpg' -> 'Face_Mask_Dataset/Train/WithoutMask/29.jpg'\n",
      "renamed 'New_Masks_Dataset/Train/Non_Mask/2.jpg' -> 'Face_Mask_Dataset/Train/WithoutMask/2.jpg'\n",
      "renamed 'New_Masks_Dataset/Train/Non_Mask/300.jpg' -> 'Face_Mask_Dataset/Train/WithoutMask/300.jpg'\n",
      "renamed 'New_Masks_Dataset/Train/Non_Mask/301.jpg' -> 'Face_Mask_Dataset/Train/WithoutMask/301.jpg'\n",
      "renamed 'New_Masks_Dataset/Train/Non_Mask/302.jpg' -> 'Face_Mask_Dataset/Train/WithoutMask/302.jpg'\n",
      "renamed 'New_Masks_Dataset/Train/Non_Mask/303.jpg' -> 'Face_Mask_Dataset/Train/WithoutMask/303.jpg'\n",
      "renamed 'New_Masks_Dataset/Train/Non_Mask/306.jpg' -> 'Face_Mask_Dataset/Train/WithoutMask/306.jpg'\n",
      "renamed 'New_Masks_Dataset/Train/Non_Mask/307.jpg' -> 'Face_Mask_Dataset/Train/WithoutMask/307.jpg'\n",
      "renamed 'New_Masks_Dataset/Train/Non_Mask/308.jpg' -> 'Face_Mask_Dataset/Train/WithoutMask/308.jpg'\n",
      "renamed 'New_Masks_Dataset/Train/Non_Mask/309.jpg' -> 'Face_Mask_Dataset/Train/WithoutMask/309.jpg'\n",
      "renamed 'New_Masks_Dataset/Train/Non_Mask/30.jpg' -> 'Face_Mask_Dataset/Train/WithoutMask/30.jpg'\n",
      "renamed 'New_Masks_Dataset/Train/Non_Mask/310.jpg' -> 'Face_Mask_Dataset/Train/WithoutMask/310.jpg'\n",
      "renamed 'New_Masks_Dataset/Train/Non_Mask/311.jpg' -> 'Face_Mask_Dataset/Train/WithoutMask/311.jpg'\n",
      "renamed 'New_Masks_Dataset/Train/Non_Mask/312.jpg' -> 'Face_Mask_Dataset/Train/WithoutMask/312.jpg'\n",
      "renamed 'New_Masks_Dataset/Train/Non_Mask/315.jpg' -> 'Face_Mask_Dataset/Train/WithoutMask/315.jpg'\n",
      "renamed 'New_Masks_Dataset/Train/Non_Mask/316.jpg' -> 'Face_Mask_Dataset/Train/WithoutMask/316.jpg'\n",
      "renamed 'New_Masks_Dataset/Train/Non_Mask/317.jpg' -> 'Face_Mask_Dataset/Train/WithoutMask/317.jpg'\n",
      "renamed 'New_Masks_Dataset/Train/Non_Mask/318.jpg' -> 'Face_Mask_Dataset/Train/WithoutMask/318.jpg'\n",
      "renamed 'New_Masks_Dataset/Train/Non_Mask/319.jpg' -> 'Face_Mask_Dataset/Train/WithoutMask/319.jpg'\n",
      "renamed 'New_Masks_Dataset/Train/Non_Mask/31.jpg' -> 'Face_Mask_Dataset/Train/WithoutMask/31.jpg'\n",
      "renamed 'New_Masks_Dataset/Train/Non_Mask/321.jpg' -> 'Face_Mask_Dataset/Train/WithoutMask/321.jpg'\n",
      "renamed 'New_Masks_Dataset/Train/Non_Mask/322.jpg' -> 'Face_Mask_Dataset/Train/WithoutMask/322.jpg'\n",
      "renamed 'New_Masks_Dataset/Train/Non_Mask/323.jpg' -> 'Face_Mask_Dataset/Train/WithoutMask/323.jpg'\n",
      "renamed 'New_Masks_Dataset/Train/Non_Mask/324.jpg' -> 'Face_Mask_Dataset/Train/WithoutMask/324.jpg'\n",
      "renamed 'New_Masks_Dataset/Train/Non_Mask/325.jpg' -> 'Face_Mask_Dataset/Train/WithoutMask/325.jpg'\n",
      "renamed 'New_Masks_Dataset/Train/Non_Mask/326.jpg' -> 'Face_Mask_Dataset/Train/WithoutMask/326.jpg'\n",
      "renamed 'New_Masks_Dataset/Train/Non_Mask/327.jpg' -> 'Face_Mask_Dataset/Train/WithoutMask/327.jpg'\n",
      "renamed 'New_Masks_Dataset/Train/Non_Mask/328.jpg' -> 'Face_Mask_Dataset/Train/WithoutMask/328.jpg'\n",
      "renamed 'New_Masks_Dataset/Train/Non_Mask/329.jpg' -> 'Face_Mask_Dataset/Train/WithoutMask/329.jpg'\n",
      "renamed 'New_Masks_Dataset/Train/Non_Mask/32.jpg' -> 'Face_Mask_Dataset/Train/WithoutMask/32.jpg'\n",
      "renamed 'New_Masks_Dataset/Train/Non_Mask/330.jpg' -> 'Face_Mask_Dataset/Train/WithoutMask/330.jpg'\n",
      "renamed 'New_Masks_Dataset/Train/Non_Mask/331.jpg' -> 'Face_Mask_Dataset/Train/WithoutMask/331.jpg'\n",
      "renamed 'New_Masks_Dataset/Train/Non_Mask/332.jpg' -> 'Face_Mask_Dataset/Train/WithoutMask/332.jpg'\n",
      "renamed 'New_Masks_Dataset/Train/Non_Mask/334.jpg' -> 'Face_Mask_Dataset/Train/WithoutMask/334.jpg'\n",
      "renamed 'New_Masks_Dataset/Train/Non_Mask/335.jpg' -> 'Face_Mask_Dataset/Train/WithoutMask/335.jpg'\n",
      "renamed 'New_Masks_Dataset/Train/Non_Mask/336.jpg' -> 'Face_Mask_Dataset/Train/WithoutMask/336.jpg'\n",
      "renamed 'New_Masks_Dataset/Train/Non_Mask/337.jpg' -> 'Face_Mask_Dataset/Train/WithoutMask/337.jpg'\n",
      "renamed 'New_Masks_Dataset/Train/Non_Mask/338.jpg' -> 'Face_Mask_Dataset/Train/WithoutMask/338.jpg'\n",
      "renamed 'New_Masks_Dataset/Train/Non_Mask/339.jpg' -> 'Face_Mask_Dataset/Train/WithoutMask/339.jpg'\n",
      "renamed 'New_Masks_Dataset/Train/Non_Mask/33.jpg' -> 'Face_Mask_Dataset/Train/WithoutMask/33.jpg'\n",
      "renamed 'New_Masks_Dataset/Train/Non_Mask/340.jpg' -> 'Face_Mask_Dataset/Train/WithoutMask/340.jpg'\n",
      "renamed 'New_Masks_Dataset/Train/Non_Mask/341.jpg' -> 'Face_Mask_Dataset/Train/WithoutMask/341.jpg'\n",
      "renamed 'New_Masks_Dataset/Train/Non_Mask/344.jpg' -> 'Face_Mask_Dataset/Train/WithoutMask/344.jpg'\n",
      "renamed 'New_Masks_Dataset/Train/Non_Mask/345.jpg' -> 'Face_Mask_Dataset/Train/WithoutMask/345.jpg'\n",
      "renamed 'New_Masks_Dataset/Train/Non_Mask/347.jpg' -> 'Face_Mask_Dataset/Train/WithoutMask/347.jpg'\n",
      "renamed 'New_Masks_Dataset/Train/Non_Mask/348.jpg' -> 'Face_Mask_Dataset/Train/WithoutMask/348.jpg'\n",
      "renamed 'New_Masks_Dataset/Train/Non_Mask/349.jpg' -> 'Face_Mask_Dataset/Train/WithoutMask/349.jpg'\n",
      "renamed 'New_Masks_Dataset/Train/Non_Mask/34.jpg' -> 'Face_Mask_Dataset/Train/WithoutMask/34.jpg'\n",
      "renamed 'New_Masks_Dataset/Train/Non_Mask/350.jpg' -> 'Face_Mask_Dataset/Train/WithoutMask/350.jpg'\n",
      "renamed 'New_Masks_Dataset/Train/Non_Mask/351.jpg' -> 'Face_Mask_Dataset/Train/WithoutMask/351.jpg'\n",
      "renamed 'New_Masks_Dataset/Train/Non_Mask/352.jpg' -> 'Face_Mask_Dataset/Train/WithoutMask/352.jpg'\n",
      "renamed 'New_Masks_Dataset/Train/Non_Mask/353.jpg' -> 'Face_Mask_Dataset/Train/WithoutMask/353.jpg'\n",
      "renamed 'New_Masks_Dataset/Train/Non_Mask/36.jpg' -> 'Face_Mask_Dataset/Train/WithoutMask/36.jpg'\n",
      "renamed 'New_Masks_Dataset/Train/Non_Mask/37.jpg' -> 'Face_Mask_Dataset/Train/WithoutMask/37.jpg'\n",
      "renamed 'New_Masks_Dataset/Train/Non_Mask/39.jpg' -> 'Face_Mask_Dataset/Train/WithoutMask/39.jpg'\n",
      "renamed 'New_Masks_Dataset/Train/Non_Mask/3.jpg' -> 'Face_Mask_Dataset/Train/WithoutMask/3.jpg'\n",
      "renamed 'New_Masks_Dataset/Train/Non_Mask/40.jpg' -> 'Face_Mask_Dataset/Train/WithoutMask/40.jpg'\n",
      "renamed 'New_Masks_Dataset/Train/Non_Mask/42.jpg' -> 'Face_Mask_Dataset/Train/WithoutMask/42.jpg'\n",
      "renamed 'New_Masks_Dataset/Train/Non_Mask/43.jpg' -> 'Face_Mask_Dataset/Train/WithoutMask/43.jpg'\n",
      "renamed 'New_Masks_Dataset/Train/Non_Mask/44.jpg' -> 'Face_Mask_Dataset/Train/WithoutMask/44.jpg'\n",
      "renamed 'New_Masks_Dataset/Train/Non_Mask/45.jpg' -> 'Face_Mask_Dataset/Train/WithoutMask/45.jpg'\n",
      "renamed 'New_Masks_Dataset/Train/Non_Mask/46.jpg' -> 'Face_Mask_Dataset/Train/WithoutMask/46.jpg'\n",
      "renamed 'New_Masks_Dataset/Train/Non_Mask/47.jpg' -> 'Face_Mask_Dataset/Train/WithoutMask/47.jpg'\n",
      "renamed 'New_Masks_Dataset/Train/Non_Mask/48.jpg' -> 'Face_Mask_Dataset/Train/WithoutMask/48.jpg'\n",
      "renamed 'New_Masks_Dataset/Train/Non_Mask/49.jpg' -> 'Face_Mask_Dataset/Train/WithoutMask/49.jpg'\n",
      "renamed 'New_Masks_Dataset/Train/Non_Mask/4.jpg' -> 'Face_Mask_Dataset/Train/WithoutMask/4.jpg'\n",
      "renamed 'New_Masks_Dataset/Train/Non_Mask/50.jpg' -> 'Face_Mask_Dataset/Train/WithoutMask/50.jpg'\n",
      "renamed 'New_Masks_Dataset/Train/Non_Mask/51.jpg' -> 'Face_Mask_Dataset/Train/WithoutMask/51.jpg'\n",
      "renamed 'New_Masks_Dataset/Train/Non_Mask/52.jpg' -> 'Face_Mask_Dataset/Train/WithoutMask/52.jpg'\n",
      "renamed 'New_Masks_Dataset/Train/Non_Mask/53.jpg' -> 'Face_Mask_Dataset/Train/WithoutMask/53.jpg'\n",
      "renamed 'New_Masks_Dataset/Train/Non_Mask/54.jpg' -> 'Face_Mask_Dataset/Train/WithoutMask/54.jpg'\n",
      "renamed 'New_Masks_Dataset/Train/Non_Mask/55.jpg' -> 'Face_Mask_Dataset/Train/WithoutMask/55.jpg'\n",
      "renamed 'New_Masks_Dataset/Train/Non_Mask/56.jpg' -> 'Face_Mask_Dataset/Train/WithoutMask/56.jpg'\n",
      "renamed 'New_Masks_Dataset/Train/Non_Mask/57.jpg' -> 'Face_Mask_Dataset/Train/WithoutMask/57.jpg'\n",
      "renamed 'New_Masks_Dataset/Train/Non_Mask/58.jpg' -> 'Face_Mask_Dataset/Train/WithoutMask/58.jpg'\n",
      "renamed 'New_Masks_Dataset/Train/Non_Mask/59.jpg' -> 'Face_Mask_Dataset/Train/WithoutMask/59.jpg'\n",
      "renamed 'New_Masks_Dataset/Train/Non_Mask/61.jpg' -> 'Face_Mask_Dataset/Train/WithoutMask/61.jpg'\n",
      "renamed 'New_Masks_Dataset/Train/Non_Mask/62.jpg' -> 'Face_Mask_Dataset/Train/WithoutMask/62.jpg'\n",
      "renamed 'New_Masks_Dataset/Train/Non_Mask/63.jpg' -> 'Face_Mask_Dataset/Train/WithoutMask/63.jpg'\n",
      "renamed 'New_Masks_Dataset/Train/Non_Mask/64.jpg' -> 'Face_Mask_Dataset/Train/WithoutMask/64.jpg'\n",
      "renamed 'New_Masks_Dataset/Train/Non_Mask/65.jpg' -> 'Face_Mask_Dataset/Train/WithoutMask/65.jpg'\n",
      "renamed 'New_Masks_Dataset/Train/Non_Mask/66.jpg' -> 'Face_Mask_Dataset/Train/WithoutMask/66.jpg'\n",
      "renamed 'New_Masks_Dataset/Train/Non_Mask/67.jpg' -> 'Face_Mask_Dataset/Train/WithoutMask/67.jpg'\n",
      "renamed 'New_Masks_Dataset/Train/Non_Mask/69.jpg' -> 'Face_Mask_Dataset/Train/WithoutMask/69.jpg'\n",
      "renamed 'New_Masks_Dataset/Train/Non_Mask/6.jpg' -> 'Face_Mask_Dataset/Train/WithoutMask/6.jpg'\n",
      "renamed 'New_Masks_Dataset/Train/Non_Mask/70.jpg' -> 'Face_Mask_Dataset/Train/WithoutMask/70.jpg'\n",
      "renamed 'New_Masks_Dataset/Train/Non_Mask/73.jpg' -> 'Face_Mask_Dataset/Train/WithoutMask/73.jpg'\n",
      "renamed 'New_Masks_Dataset/Train/Non_Mask/74.jpg' -> 'Face_Mask_Dataset/Train/WithoutMask/74.jpg'\n",
      "renamed 'New_Masks_Dataset/Train/Non_Mask/76.jpg' -> 'Face_Mask_Dataset/Train/WithoutMask/76.jpg'\n",
      "renamed 'New_Masks_Dataset/Train/Non_Mask/77.jpg' -> 'Face_Mask_Dataset/Train/WithoutMask/77.jpg'\n",
      "renamed 'New_Masks_Dataset/Train/Non_Mask/79.jpg' -> 'Face_Mask_Dataset/Train/WithoutMask/79.jpg'\n",
      "renamed 'New_Masks_Dataset/Train/Non_Mask/7.jpg' -> 'Face_Mask_Dataset/Train/WithoutMask/7.jpg'\n",
      "renamed 'New_Masks_Dataset/Train/Non_Mask/80.jpg' -> 'Face_Mask_Dataset/Train/WithoutMask/80.jpg'\n",
      "renamed 'New_Masks_Dataset/Train/Non_Mask/81.jpg' -> 'Face_Mask_Dataset/Train/WithoutMask/81.jpg'\n",
      "renamed 'New_Masks_Dataset/Train/Non_Mask/83.jpg' -> 'Face_Mask_Dataset/Train/WithoutMask/83.jpg'\n",
      "renamed 'New_Masks_Dataset/Train/Non_Mask/84.jpg' -> 'Face_Mask_Dataset/Train/WithoutMask/84.jpg'\n",
      "renamed 'New_Masks_Dataset/Train/Non_Mask/86.jpg' -> 'Face_Mask_Dataset/Train/WithoutMask/86.jpg'\n",
      "renamed 'New_Masks_Dataset/Train/Non_Mask/87.jpg' -> 'Face_Mask_Dataset/Train/WithoutMask/87.jpg'\n",
      "renamed 'New_Masks_Dataset/Train/Non_Mask/88.jpg' -> 'Face_Mask_Dataset/Train/WithoutMask/88.jpg'\n",
      "renamed 'New_Masks_Dataset/Train/Non_Mask/89.jpg' -> 'Face_Mask_Dataset/Train/WithoutMask/89.jpg'\n",
      "renamed 'New_Masks_Dataset/Train/Non_Mask/90.jpg' -> 'Face_Mask_Dataset/Train/WithoutMask/90.jpg'\n",
      "renamed 'New_Masks_Dataset/Train/Non_Mask/91.jpg' -> 'Face_Mask_Dataset/Train/WithoutMask/91.jpg'\n",
      "renamed 'New_Masks_Dataset/Train/Non_Mask/92.jpg' -> 'Face_Mask_Dataset/Train/WithoutMask/92.jpg'\n",
      "renamed 'New_Masks_Dataset/Train/Non_Mask/93.jpg' -> 'Face_Mask_Dataset/Train/WithoutMask/93.jpg'\n",
      "renamed 'New_Masks_Dataset/Train/Non_Mask/94.jpg' -> 'Face_Mask_Dataset/Train/WithoutMask/94.jpg'\n",
      "renamed 'New_Masks_Dataset/Train/Non_Mask/95.jpg' -> 'Face_Mask_Dataset/Train/WithoutMask/95.jpg'\n",
      "renamed 'New_Masks_Dataset/Train/Non_Mask/96.jpg' -> 'Face_Mask_Dataset/Train/WithoutMask/96.jpg'\n",
      "renamed 'New_Masks_Dataset/Train/Non_Mask/97.jpg' -> 'Face_Mask_Dataset/Train/WithoutMask/97.jpg'\n",
      "renamed 'New_Masks_Dataset/Train/Non_Mask/98.jpg' -> 'Face_Mask_Dataset/Train/WithoutMask/98.jpg'\n",
      "renamed 'New_Masks_Dataset/Train/Non_Mask/99.jpg' -> 'Face_Mask_Dataset/Train/WithoutMask/99.jpg'\n",
      "renamed 'New_Masks_Dataset/Train/Non_Mask/9.jpg' -> 'Face_Mask_Dataset/Train/WithoutMask/9.jpg'\n",
      "renamed 'New_Masks_Dataset/Test/Non_Mask/real_01032.jpg' -> 'Face_Mask_Dataset/Test/WithoutMask/real_01032.jpg'\n",
      "renamed 'New_Masks_Dataset/Test/Non_Mask/real_01033.jpg' -> 'Face_Mask_Dataset/Test/WithoutMask/real_01033.jpg'\n",
      "renamed 'New_Masks_Dataset/Test/Non_Mask/real_01034.jpg' -> 'Face_Mask_Dataset/Test/WithoutMask/real_01034.jpg'\n",
      "renamed 'New_Masks_Dataset/Test/Non_Mask/real_01035.jpg' -> 'Face_Mask_Dataset/Test/WithoutMask/real_01035.jpg'\n",
      "renamed 'New_Masks_Dataset/Test/Non_Mask/real_01036.jpg' -> 'Face_Mask_Dataset/Test/WithoutMask/real_01036.jpg'\n",
      "renamed 'New_Masks_Dataset/Test/Non_Mask/real_01037.jpg' -> 'Face_Mask_Dataset/Test/WithoutMask/real_01037.jpg'\n",
      "renamed 'New_Masks_Dataset/Test/Non_Mask/real_01038.jpg' -> 'Face_Mask_Dataset/Test/WithoutMask/real_01038.jpg'\n",
      "renamed 'New_Masks_Dataset/Test/Non_Mask/real_01039.jpg' -> 'Face_Mask_Dataset/Test/WithoutMask/real_01039.jpg'\n",
      "renamed 'New_Masks_Dataset/Test/Non_Mask/real_01040.jpg' -> 'Face_Mask_Dataset/Test/WithoutMask/real_01040.jpg'\n",
      "renamed 'New_Masks_Dataset/Test/Non_Mask/real_01041.jpg' -> 'Face_Mask_Dataset/Test/WithoutMask/real_01041.jpg'\n",
      "renamed 'New_Masks_Dataset/Test/Non_Mask/real_01042.jpg' -> 'Face_Mask_Dataset/Test/WithoutMask/real_01042.jpg'\n",
      "renamed 'New_Masks_Dataset/Test/Non_Mask/real_01043.jpg' -> 'Face_Mask_Dataset/Test/WithoutMask/real_01043.jpg'\n",
      "renamed 'New_Masks_Dataset/Test/Non_Mask/real_01044.jpg' -> 'Face_Mask_Dataset/Test/WithoutMask/real_01044.jpg'\n",
      "renamed 'New_Masks_Dataset/Test/Non_Mask/real_01045.jpg' -> 'Face_Mask_Dataset/Test/WithoutMask/real_01045.jpg'\n",
      "renamed 'New_Masks_Dataset/Test/Non_Mask/real_01046.jpg' -> 'Face_Mask_Dataset/Test/WithoutMask/real_01046.jpg'\n",
      "renamed 'New_Masks_Dataset/Test/Non_Mask/real_01047.jpg' -> 'Face_Mask_Dataset/Test/WithoutMask/real_01047.jpg'\n",
      "renamed 'New_Masks_Dataset/Test/Non_Mask/real_01048.jpg' -> 'Face_Mask_Dataset/Test/WithoutMask/real_01048.jpg'\n",
      "renamed 'New_Masks_Dataset/Test/Non_Mask/real_01049.jpg' -> 'Face_Mask_Dataset/Test/WithoutMask/real_01049.jpg'\n",
      "renamed 'New_Masks_Dataset/Test/Non_Mask/real_01050.jpg' -> 'Face_Mask_Dataset/Test/WithoutMask/real_01050.jpg'\n",
      "renamed 'New_Masks_Dataset/Test/Non_Mask/real_01051.jpg' -> 'Face_Mask_Dataset/Test/WithoutMask/real_01051.jpg'\n",
      "renamed 'New_Masks_Dataset/Test/Non_Mask/real_01052.jpg' -> 'Face_Mask_Dataset/Test/WithoutMask/real_01052.jpg'\n",
      "renamed 'New_Masks_Dataset/Test/Non_Mask/real_01053.jpg' -> 'Face_Mask_Dataset/Test/WithoutMask/real_01053.jpg'\n",
      "renamed 'New_Masks_Dataset/Test/Non_Mask/real_01054.jpg' -> 'Face_Mask_Dataset/Test/WithoutMask/real_01054.jpg'\n",
      "renamed 'New_Masks_Dataset/Test/Non_Mask/real_01055.jpg' -> 'Face_Mask_Dataset/Test/WithoutMask/real_01055.jpg'\n",
      "renamed 'New_Masks_Dataset/Test/Non_Mask/real_01056.jpg' -> 'Face_Mask_Dataset/Test/WithoutMask/real_01056.jpg'\n",
      "renamed 'New_Masks_Dataset/Test/Non_Mask/real_01057.jpg' -> 'Face_Mask_Dataset/Test/WithoutMask/real_01057.jpg'\n",
      "renamed 'New_Masks_Dataset/Test/Non_Mask/real_01058.jpg' -> 'Face_Mask_Dataset/Test/WithoutMask/real_01058.jpg'\n",
      "renamed 'New_Masks_Dataset/Test/Non_Mask/real_01059.jpg' -> 'Face_Mask_Dataset/Test/WithoutMask/real_01059.jpg'\n",
      "renamed 'New_Masks_Dataset/Test/Non_Mask/real_01060.jpg' -> 'Face_Mask_Dataset/Test/WithoutMask/real_01060.jpg'\n",
      "renamed 'New_Masks_Dataset/Test/Non_Mask/real_01061.jpg' -> 'Face_Mask_Dataset/Test/WithoutMask/real_01061.jpg'\n",
      "renamed 'New_Masks_Dataset/Test/Non_Mask/real_01062.jpg' -> 'Face_Mask_Dataset/Test/WithoutMask/real_01062.jpg'\n",
      "renamed 'New_Masks_Dataset/Test/Non_Mask/real_01063.jpg' -> 'Face_Mask_Dataset/Test/WithoutMask/real_01063.jpg'\n",
      "renamed 'New_Masks_Dataset/Test/Non_Mask/real_01064.jpg' -> 'Face_Mask_Dataset/Test/WithoutMask/real_01064.jpg'\n",
      "renamed 'New_Masks_Dataset/Test/Non_Mask/real_01065.jpg' -> 'Face_Mask_Dataset/Test/WithoutMask/real_01065.jpg'\n",
      "renamed 'New_Masks_Dataset/Test/Non_Mask/real_01066.jpg' -> 'Face_Mask_Dataset/Test/WithoutMask/real_01066.jpg'\n",
      "renamed 'New_Masks_Dataset/Test/Non_Mask/real_01067.jpg' -> 'Face_Mask_Dataset/Test/WithoutMask/real_01067.jpg'\n",
      "renamed 'New_Masks_Dataset/Test/Non_Mask/real_01068.jpg' -> 'Face_Mask_Dataset/Test/WithoutMask/real_01068.jpg'\n",
      "renamed 'New_Masks_Dataset/Test/Non_Mask/real_01069.jpg' -> 'Face_Mask_Dataset/Test/WithoutMask/real_01069.jpg'\n",
      "renamed 'New_Masks_Dataset/Test/Non_Mask/real_01070.jpg' -> 'Face_Mask_Dataset/Test/WithoutMask/real_01070.jpg'\n",
      "renamed 'New_Masks_Dataset/Test/Non_Mask/real_01071.jpg' -> 'Face_Mask_Dataset/Test/WithoutMask/real_01071.jpg'\n",
      "renamed 'New_Masks_Dataset/Test/Non_Mask/real_01072.jpg' -> 'Face_Mask_Dataset/Test/WithoutMask/real_01072.jpg'\n",
      "renamed 'New_Masks_Dataset/Test/Non_Mask/real_01073.jpg' -> 'Face_Mask_Dataset/Test/WithoutMask/real_01073.jpg'\n",
      "renamed 'New_Masks_Dataset/Test/Non_Mask/real_01074.jpg' -> 'Face_Mask_Dataset/Test/WithoutMask/real_01074.jpg'\n",
      "renamed 'New_Masks_Dataset/Test/Non_Mask/real_01075.jpg' -> 'Face_Mask_Dataset/Test/WithoutMask/real_01075.jpg'\n",
      "renamed 'New_Masks_Dataset/Test/Non_Mask/real_01076.jpg' -> 'Face_Mask_Dataset/Test/WithoutMask/real_01076.jpg'\n",
      "renamed 'New_Masks_Dataset/Test/Non_Mask/real_01077.jpg' -> 'Face_Mask_Dataset/Test/WithoutMask/real_01077.jpg'\n",
      "renamed 'New_Masks_Dataset/Test/Non_Mask/real_01078.jpg' -> 'Face_Mask_Dataset/Test/WithoutMask/real_01078.jpg'\n",
      "renamed 'New_Masks_Dataset/Test/Non_Mask/real_01079.jpg' -> 'Face_Mask_Dataset/Test/WithoutMask/real_01079.jpg'\n",
      "renamed 'New_Masks_Dataset/Test/Non_Mask/real_01080.jpg' -> 'Face_Mask_Dataset/Test/WithoutMask/real_01080.jpg'\n",
      "renamed 'New_Masks_Dataset/Test/Non_Mask/real_01081.jpg' -> 'Face_Mask_Dataset/Test/WithoutMask/real_01081.jpg'\n",
      "renamed 'New_Masks_Dataset/Validation/Non_Mask/real_00001.jpg' -> 'Face_Mask_Dataset/Validation/WithoutMask/real_00001.jpg'\n",
      "renamed 'New_Masks_Dataset/Validation/Non_Mask/real_00002.jpg' -> 'Face_Mask_Dataset/Validation/WithoutMask/real_00002.jpg'\n",
      "renamed 'New_Masks_Dataset/Validation/Non_Mask/real_00003.jpg' -> 'Face_Mask_Dataset/Validation/WithoutMask/real_00003.jpg'\n",
      "renamed 'New_Masks_Dataset/Validation/Non_Mask/real_00004.jpg' -> 'Face_Mask_Dataset/Validation/WithoutMask/real_00004.jpg'\n",
      "renamed 'New_Masks_Dataset/Validation/Non_Mask/real_00005.jpg' -> 'Face_Mask_Dataset/Validation/WithoutMask/real_00005.jpg'\n",
      "renamed 'New_Masks_Dataset/Validation/Non_Mask/real_00006.jpg' -> 'Face_Mask_Dataset/Validation/WithoutMask/real_00006.jpg'\n",
      "renamed 'New_Masks_Dataset/Validation/Non_Mask/real_00007.jpg' -> 'Face_Mask_Dataset/Validation/WithoutMask/real_00007.jpg'\n",
      "renamed 'New_Masks_Dataset/Validation/Non_Mask/real_00008.jpg' -> 'Face_Mask_Dataset/Validation/WithoutMask/real_00008.jpg'\n",
      "renamed 'New_Masks_Dataset/Validation/Non_Mask/real_00009.jpg' -> 'Face_Mask_Dataset/Validation/WithoutMask/real_00009.jpg'\n",
      "renamed 'New_Masks_Dataset/Validation/Non_Mask/real_00010.jpg' -> 'Face_Mask_Dataset/Validation/WithoutMask/real_00010.jpg'\n",
      "renamed 'New_Masks_Dataset/Validation/Non_Mask/real_00011.jpg' -> 'Face_Mask_Dataset/Validation/WithoutMask/real_00011.jpg'\n",
      "renamed 'New_Masks_Dataset/Validation/Non_Mask/real_00012.jpg' -> 'Face_Mask_Dataset/Validation/WithoutMask/real_00012.jpg'\n",
      "renamed 'New_Masks_Dataset/Validation/Non_Mask/real_00013.jpg' -> 'Face_Mask_Dataset/Validation/WithoutMask/real_00013.jpg'\n",
      "renamed 'New_Masks_Dataset/Validation/Non_Mask/real_00014.jpg' -> 'Face_Mask_Dataset/Validation/WithoutMask/real_00014.jpg'\n",
      "renamed 'New_Masks_Dataset/Validation/Non_Mask/real_00015.jpg' -> 'Face_Mask_Dataset/Validation/WithoutMask/real_00015.jpg'\n",
      "renamed 'New_Masks_Dataset/Validation/Non_Mask/real_00016.jpg' -> 'Face_Mask_Dataset/Validation/WithoutMask/real_00016.jpg'\n",
      "renamed 'New_Masks_Dataset/Validation/Non_Mask/real_00017.jpg' -> 'Face_Mask_Dataset/Validation/WithoutMask/real_00017.jpg'\n",
      "renamed 'New_Masks_Dataset/Validation/Non_Mask/real_00018.jpg' -> 'Face_Mask_Dataset/Validation/WithoutMask/real_00018.jpg'\n",
      "renamed 'New_Masks_Dataset/Validation/Non_Mask/real_00019.jpg' -> 'Face_Mask_Dataset/Validation/WithoutMask/real_00019.jpg'\n",
      "renamed 'New_Masks_Dataset/Validation/Non_Mask/real_00020.jpg' -> 'Face_Mask_Dataset/Validation/WithoutMask/real_00020.jpg'\n",
      "renamed 'New_Masks_Dataset/Validation/Non_Mask/real_00021.jpg' -> 'Face_Mask_Dataset/Validation/WithoutMask/real_00021.jpg'\n",
      "renamed 'New_Masks_Dataset/Validation/Non_Mask/real_00022.jpg' -> 'Face_Mask_Dataset/Validation/WithoutMask/real_00022.jpg'\n",
      "renamed 'New_Masks_Dataset/Validation/Non_Mask/real_00023.jpg' -> 'Face_Mask_Dataset/Validation/WithoutMask/real_00023.jpg'\n",
      "renamed 'New_Masks_Dataset/Validation/Non_Mask/real_00024.jpg' -> 'Face_Mask_Dataset/Validation/WithoutMask/real_00024.jpg'\n",
      "renamed 'New_Masks_Dataset/Validation/Non_Mask/real_00025.jpg' -> 'Face_Mask_Dataset/Validation/WithoutMask/real_00025.jpg'\n",
      "renamed 'New_Masks_Dataset/Validation/Non_Mask/real_00026.jpg' -> 'Face_Mask_Dataset/Validation/WithoutMask/real_00026.jpg'\n",
      "renamed 'New_Masks_Dataset/Validation/Non_Mask/real_00027.jpg' -> 'Face_Mask_Dataset/Validation/WithoutMask/real_00027.jpg'\n",
      "renamed 'New_Masks_Dataset/Validation/Non_Mask/real_00028.jpg' -> 'Face_Mask_Dataset/Validation/WithoutMask/real_00028.jpg'\n",
      "renamed 'New_Masks_Dataset/Validation/Non_Mask/real_00029.jpg' -> 'Face_Mask_Dataset/Validation/WithoutMask/real_00029.jpg'\n",
      "renamed 'New_Masks_Dataset/Validation/Non_Mask/real_00030.jpg' -> 'Face_Mask_Dataset/Validation/WithoutMask/real_00030.jpg'\n",
      "renamed 'New_Masks_Dataset/Validation/Non_Mask/real_00031.jpg' -> 'Face_Mask_Dataset/Validation/WithoutMask/real_00031.jpg'\n",
      "renamed 'New_Masks_Dataset/Validation/Non_Mask/real_00032.jpg' -> 'Face_Mask_Dataset/Validation/WithoutMask/real_00032.jpg'\n",
      "renamed 'New_Masks_Dataset/Validation/Non_Mask/real_00033.jpg' -> 'Face_Mask_Dataset/Validation/WithoutMask/real_00033.jpg'\n",
      "renamed 'New_Masks_Dataset/Validation/Non_Mask/real_00034.jpg' -> 'Face_Mask_Dataset/Validation/WithoutMask/real_00034.jpg'\n",
      "renamed 'New_Masks_Dataset/Validation/Non_Mask/real_00035.jpg' -> 'Face_Mask_Dataset/Validation/WithoutMask/real_00035.jpg'\n",
      "renamed 'New_Masks_Dataset/Validation/Non_Mask/real_00036.jpg' -> 'Face_Mask_Dataset/Validation/WithoutMask/real_00036.jpg'\n",
      "renamed 'New_Masks_Dataset/Validation/Non_Mask/real_00037.jpg' -> 'Face_Mask_Dataset/Validation/WithoutMask/real_00037.jpg'\n",
      "renamed 'New_Masks_Dataset/Validation/Non_Mask/real_00038.jpg' -> 'Face_Mask_Dataset/Validation/WithoutMask/real_00038.jpg'\n",
      "renamed 'New_Masks_Dataset/Validation/Non_Mask/real_00039.jpg' -> 'Face_Mask_Dataset/Validation/WithoutMask/real_00039.jpg'\n",
      "renamed 'New_Masks_Dataset/Validation/Non_Mask/real_00040.jpg' -> 'Face_Mask_Dataset/Validation/WithoutMask/real_00040.jpg'\n",
      "renamed 'New_Masks_Dataset/Validation/Non_Mask/real_00041.jpg' -> 'Face_Mask_Dataset/Validation/WithoutMask/real_00041.jpg'\n",
      "renamed 'New_Masks_Dataset/Validation/Non_Mask/real_00042.jpg' -> 'Face_Mask_Dataset/Validation/WithoutMask/real_00042.jpg'\n",
      "renamed 'New_Masks_Dataset/Validation/Non_Mask/real_00043.jpg' -> 'Face_Mask_Dataset/Validation/WithoutMask/real_00043.jpg'\n",
      "renamed 'New_Masks_Dataset/Validation/Non_Mask/real_00044.jpg' -> 'Face_Mask_Dataset/Validation/WithoutMask/real_00044.jpg'\n",
      "renamed 'New_Masks_Dataset/Validation/Non_Mask/real_00045.jpg' -> 'Face_Mask_Dataset/Validation/WithoutMask/real_00045.jpg'\n",
      "renamed 'New_Masks_Dataset/Validation/Non_Mask/real_00046.jpg' -> 'Face_Mask_Dataset/Validation/WithoutMask/real_00046.jpg'\n",
      "renamed 'New_Masks_Dataset/Validation/Non_Mask/real_00047.jpg' -> 'Face_Mask_Dataset/Validation/WithoutMask/real_00047.jpg'\n",
      "renamed 'New_Masks_Dataset/Validation/Non_Mask/real_00048.jpg' -> 'Face_Mask_Dataset/Validation/WithoutMask/real_00048.jpg'\n",
      "renamed 'New_Masks_Dataset/Validation/Non_Mask/real_00049.jpg' -> 'Face_Mask_Dataset/Validation/WithoutMask/real_00049.jpg'\n",
      "renamed 'New_Masks_Dataset/Validation/Non_Mask/real_00050.jpg' -> 'Face_Mask_Dataset/Validation/WithoutMask/real_00050.jpg'\n",
      "renamed 'New_Masks_Dataset/Validation/Non_Mask/real_00051.jpg' -> 'Face_Mask_Dataset/Validation/WithoutMask/real_00051.jpg'\n",
      "renamed 'New_Masks_Dataset/Validation/Non_Mask/real_00052.jpg' -> 'Face_Mask_Dataset/Validation/WithoutMask/real_00052.jpg'\n",
      "renamed 'New_Masks_Dataset/Validation/Non_Mask/real_00053.jpg' -> 'Face_Mask_Dataset/Validation/WithoutMask/real_00053.jpg'\n",
      "renamed 'New_Masks_Dataset/Validation/Non_Mask/real_00054.jpg' -> 'Face_Mask_Dataset/Validation/WithoutMask/real_00054.jpg'\n",
      "renamed 'New_Masks_Dataset/Validation/Non_Mask/real_00055.jpg' -> 'Face_Mask_Dataset/Validation/WithoutMask/real_00055.jpg'\n",
      "renamed 'New_Masks_Dataset/Validation/Non_Mask/real_00056.jpg' -> 'Face_Mask_Dataset/Validation/WithoutMask/real_00056.jpg'\n",
      "renamed 'New_Masks_Dataset/Validation/Non_Mask/real_00057.jpg' -> 'Face_Mask_Dataset/Validation/WithoutMask/real_00057.jpg'\n",
      "renamed 'New_Masks_Dataset/Validation/Non_Mask/real_00058.jpg' -> 'Face_Mask_Dataset/Validation/WithoutMask/real_00058.jpg'\n",
      "renamed 'New_Masks_Dataset/Validation/Non_Mask/real_00059.jpg' -> 'Face_Mask_Dataset/Validation/WithoutMask/real_00059.jpg'\n",
      "renamed 'New_Masks_Dataset/Validation/Non_Mask/real_00060.jpg' -> 'Face_Mask_Dataset/Validation/WithoutMask/real_00060.jpg'\n",
      "renamed 'New_Masks_Dataset/Validation/Non_Mask/real_00061.jpg' -> 'Face_Mask_Dataset/Validation/WithoutMask/real_00061.jpg'\n",
      "renamed 'New_Masks_Dataset/Validation/Non_Mask/real_00062.jpg' -> 'Face_Mask_Dataset/Validation/WithoutMask/real_00062.jpg'\n",
      "renamed 'New_Masks_Dataset/Validation/Non_Mask/real_00063.jpg' -> 'Face_Mask_Dataset/Validation/WithoutMask/real_00063.jpg'\n",
      "renamed 'New_Masks_Dataset/Validation/Non_Mask/real_00064.jpg' -> 'Face_Mask_Dataset/Validation/WithoutMask/real_00064.jpg'\n",
      "renamed 'New_Masks_Dataset/Validation/Non_Mask/real_00065.jpg' -> 'Face_Mask_Dataset/Validation/WithoutMask/real_00065.jpg'\n",
      "renamed 'New_Masks_Dataset/Validation/Non_Mask/real_00066.jpg' -> 'Face_Mask_Dataset/Validation/WithoutMask/real_00066.jpg'\n",
      "renamed 'New_Masks_Dataset/Validation/Non_Mask/real_00067.jpg' -> 'Face_Mask_Dataset/Validation/WithoutMask/real_00067.jpg'\n",
      "renamed 'New_Masks_Dataset/Validation/Non_Mask/real_00068.jpg' -> 'Face_Mask_Dataset/Validation/WithoutMask/real_00068.jpg'\n",
      "renamed 'New_Masks_Dataset/Validation/Non_Mask/real_00069.jpg' -> 'Face_Mask_Dataset/Validation/WithoutMask/real_00069.jpg'\n",
      "renamed 'New_Masks_Dataset/Validation/Non_Mask/real_00070.jpg' -> 'Face_Mask_Dataset/Validation/WithoutMask/real_00070.jpg'\n",
      "renamed 'New_Masks_Dataset/Validation/Non_Mask/real_00071.jpg' -> 'Face_Mask_Dataset/Validation/WithoutMask/real_00071.jpg'\n",
      "renamed 'New_Masks_Dataset/Validation/Non_Mask/real_00072.jpg' -> 'Face_Mask_Dataset/Validation/WithoutMask/real_00072.jpg'\n",
      "renamed 'New_Masks_Dataset/Validation/Non_Mask/real_00073.jpg' -> 'Face_Mask_Dataset/Validation/WithoutMask/real_00073.jpg'\n",
      "renamed 'New_Masks_Dataset/Validation/Non_Mask/real_00074.jpg' -> 'Face_Mask_Dataset/Validation/WithoutMask/real_00074.jpg'\n",
      "renamed 'New_Masks_Dataset/Validation/Non_Mask/real_00075.jpg' -> 'Face_Mask_Dataset/Validation/WithoutMask/real_00075.jpg'\n",
      "renamed 'New_Masks_Dataset/Validation/Non_Mask/real_00076.jpg' -> 'Face_Mask_Dataset/Validation/WithoutMask/real_00076.jpg'\n",
      "renamed 'New_Masks_Dataset/Validation/Non_Mask/real_00077.jpg' -> 'Face_Mask_Dataset/Validation/WithoutMask/real_00077.jpg'\n",
      "renamed 'New_Masks_Dataset/Validation/Non_Mask/real_00078.jpg' -> 'Face_Mask_Dataset/Validation/WithoutMask/real_00078.jpg'\n",
      "renamed 'New_Masks_Dataset/Validation/Non_Mask/real_00079.jpg' -> 'Face_Mask_Dataset/Validation/WithoutMask/real_00079.jpg'\n",
      "renamed 'New_Masks_Dataset/Validation/Non_Mask/real_00080.jpg' -> 'Face_Mask_Dataset/Validation/WithoutMask/real_00080.jpg'\n",
      "renamed 'New_Masks_Dataset/Validation/Non_Mask/real_00081.jpg' -> 'Face_Mask_Dataset/Validation/WithoutMask/real_00081.jpg'\n",
      "renamed 'New_Masks_Dataset/Validation/Non_Mask/real_00082.jpg' -> 'Face_Mask_Dataset/Validation/WithoutMask/real_00082.jpg'\n",
      "renamed 'New_Masks_Dataset/Validation/Non_Mask/real_00083.jpg' -> 'Face_Mask_Dataset/Validation/WithoutMask/real_00083.jpg'\n",
      "renamed 'New_Masks_Dataset/Validation/Non_Mask/real_00084.jpg' -> 'Face_Mask_Dataset/Validation/WithoutMask/real_00084.jpg'\n",
      "renamed 'New_Masks_Dataset/Validation/Non_Mask/real_00085.jpg' -> 'Face_Mask_Dataset/Validation/WithoutMask/real_00085.jpg'\n",
      "renamed 'New_Masks_Dataset/Validation/Non_Mask/real_00086.jpg' -> 'Face_Mask_Dataset/Validation/WithoutMask/real_00086.jpg'\n",
      "renamed 'New_Masks_Dataset/Validation/Non_Mask/real_00087.jpg' -> 'Face_Mask_Dataset/Validation/WithoutMask/real_00087.jpg'\n",
      "renamed 'New_Masks_Dataset/Validation/Non_Mask/real_00088.jpg' -> 'Face_Mask_Dataset/Validation/WithoutMask/real_00088.jpg'\n",
      "renamed 'New_Masks_Dataset/Validation/Non_Mask/real_00089.jpg' -> 'Face_Mask_Dataset/Validation/WithoutMask/real_00089.jpg'\n",
      "renamed 'New_Masks_Dataset/Validation/Non_Mask/real_00090.jpg' -> 'Face_Mask_Dataset/Validation/WithoutMask/real_00090.jpg'\n",
      "renamed 'New_Masks_Dataset/Validation/Non_Mask/real_00091.jpg' -> 'Face_Mask_Dataset/Validation/WithoutMask/real_00091.jpg'\n",
      "renamed 'New_Masks_Dataset/Validation/Non_Mask/real_00092.jpg' -> 'Face_Mask_Dataset/Validation/WithoutMask/real_00092.jpg'\n",
      "renamed 'New_Masks_Dataset/Validation/Non_Mask/real_00093.jpg' -> 'Face_Mask_Dataset/Validation/WithoutMask/real_00093.jpg'\n",
      "renamed 'New_Masks_Dataset/Validation/Non_Mask/real_00094.jpg' -> 'Face_Mask_Dataset/Validation/WithoutMask/real_00094.jpg'\n",
      "renamed 'New_Masks_Dataset/Validation/Non_Mask/real_00095.jpg' -> 'Face_Mask_Dataset/Validation/WithoutMask/real_00095.jpg'\n",
      "renamed 'New_Masks_Dataset/Validation/Non_Mask/real_00096.jpg' -> 'Face_Mask_Dataset/Validation/WithoutMask/real_00096.jpg'\n",
      "renamed 'New_Masks_Dataset/Validation/Non_Mask/real_00097.jpg' -> 'Face_Mask_Dataset/Validation/WithoutMask/real_00097.jpg'\n",
      "renamed 'New_Masks_Dataset/Validation/Non_Mask/real_00098.jpg' -> 'Face_Mask_Dataset/Validation/WithoutMask/real_00098.jpg'\n",
      "renamed 'New_Masks_Dataset/Validation/Non_Mask/real_00099.jpg' -> 'Face_Mask_Dataset/Validation/WithoutMask/real_00099.jpg'\n",
      "renamed 'New_Masks_Dataset/Validation/Non_Mask/real_00100.jpg' -> 'Face_Mask_Dataset/Validation/WithoutMask/real_00100.jpg'\n",
      "renamed 'New_Masks_Dataset/Validation/Non_Mask/real_00101.jpg' -> 'Face_Mask_Dataset/Validation/WithoutMask/real_00101.jpg'\n",
      "renamed 'New_Masks_Dataset/Validation/Non_Mask/real_00152.jpg' -> 'Face_Mask_Dataset/Validation/WithoutMask/real_00152.jpg'\n",
      "renamed 'New_Masks_Dataset/Validation/Non_Mask/real_00155.jpg' -> 'Face_Mask_Dataset/Validation/WithoutMask/real_00155.jpg'\n",
      "renamed 'New_Masks_Dataset/Validation/Non_Mask/real_00982.jpg' -> 'Face_Mask_Dataset/Validation/WithoutMask/real_00982.jpg'\n",
      "renamed 'New_Masks_Dataset/Validation/Non_Mask/real_00983.jpg' -> 'Face_Mask_Dataset/Validation/WithoutMask/real_00983.jpg'\n",
      "renamed 'New_Masks_Dataset/Validation/Non_Mask/real_00984.jpg' -> 'Face_Mask_Dataset/Validation/WithoutMask/real_00984.jpg'\n",
      "renamed 'New_Masks_Dataset/Validation/Non_Mask/real_00985.jpg' -> 'Face_Mask_Dataset/Validation/WithoutMask/real_00985.jpg'\n",
      "renamed 'New_Masks_Dataset/Validation/Non_Mask/real_00986.jpg' -> 'Face_Mask_Dataset/Validation/WithoutMask/real_00986.jpg'\n",
      "renamed 'New_Masks_Dataset/Validation/Non_Mask/real_00987.jpg' -> 'Face_Mask_Dataset/Validation/WithoutMask/real_00987.jpg'\n",
      "renamed 'New_Masks_Dataset/Validation/Non_Mask/real_00988.jpg' -> 'Face_Mask_Dataset/Validation/WithoutMask/real_00988.jpg'\n",
      "renamed 'New_Masks_Dataset/Validation/Non_Mask/real_00989.jpg' -> 'Face_Mask_Dataset/Validation/WithoutMask/real_00989.jpg'\n",
      "renamed 'New_Masks_Dataset/Validation/Non_Mask/real_00990.jpg' -> 'Face_Mask_Dataset/Validation/WithoutMask/real_00990.jpg'\n",
      "renamed 'New_Masks_Dataset/Validation/Non_Mask/real_00991.jpg' -> 'Face_Mask_Dataset/Validation/WithoutMask/real_00991.jpg'\n",
      "renamed 'New_Masks_Dataset/Validation/Non_Mask/real_00992.jpg' -> 'Face_Mask_Dataset/Validation/WithoutMask/real_00992.jpg'\n",
      "renamed 'New_Masks_Dataset/Validation/Non_Mask/real_00993.jpg' -> 'Face_Mask_Dataset/Validation/WithoutMask/real_00993.jpg'\n",
      "renamed 'New_Masks_Dataset/Validation/Non_Mask/real_00994.jpg' -> 'Face_Mask_Dataset/Validation/WithoutMask/real_00994.jpg'\n",
      "renamed 'New_Masks_Dataset/Validation/Non_Mask/real_00995.jpg' -> 'Face_Mask_Dataset/Validation/WithoutMask/real_00995.jpg'\n",
      "renamed 'New_Masks_Dataset/Validation/Non_Mask/real_00996.jpg' -> 'Face_Mask_Dataset/Validation/WithoutMask/real_00996.jpg'\n",
      "renamed 'New_Masks_Dataset/Validation/Non_Mask/real_00997.jpg' -> 'Face_Mask_Dataset/Validation/WithoutMask/real_00997.jpg'\n",
      "renamed 'New_Masks_Dataset/Validation/Non_Mask/real_00998.jpg' -> 'Face_Mask_Dataset/Validation/WithoutMask/real_00998.jpg'\n",
      "renamed 'New_Masks_Dataset/Validation/Non_Mask/real_00999.jpg' -> 'Face_Mask_Dataset/Validation/WithoutMask/real_00999.jpg'\n",
      "renamed 'New_Masks_Dataset/Validation/Non_Mask/real_01000.jpg' -> 'Face_Mask_Dataset/Validation/WithoutMask/real_01000.jpg'\n",
      "renamed 'New_Masks_Dataset/Validation/Non_Mask/real_01001.jpg' -> 'Face_Mask_Dataset/Validation/WithoutMask/real_01001.jpg'\n",
      "renamed 'New_Masks_Dataset/Validation/Non_Mask/real_01002.jpg' -> 'Face_Mask_Dataset/Validation/WithoutMask/real_01002.jpg'\n",
      "renamed 'New_Masks_Dataset/Validation/Non_Mask/real_01003.jpg' -> 'Face_Mask_Dataset/Validation/WithoutMask/real_01003.jpg'\n",
      "renamed 'New_Masks_Dataset/Validation/Non_Mask/real_01004.jpg' -> 'Face_Mask_Dataset/Validation/WithoutMask/real_01004.jpg'\n",
      "renamed 'New_Masks_Dataset/Validation/Non_Mask/real_01005.jpg' -> 'Face_Mask_Dataset/Validation/WithoutMask/real_01005.jpg'\n",
      "renamed 'New_Masks_Dataset/Validation/Non_Mask/real_01006.jpg' -> 'Face_Mask_Dataset/Validation/WithoutMask/real_01006.jpg'\n",
      "renamed 'New_Masks_Dataset/Validation/Non_Mask/real_01007.jpg' -> 'Face_Mask_Dataset/Validation/WithoutMask/real_01007.jpg'\n",
      "renamed 'New_Masks_Dataset/Validation/Non_Mask/real_01008.jpg' -> 'Face_Mask_Dataset/Validation/WithoutMask/real_01008.jpg'\n",
      "renamed 'New_Masks_Dataset/Validation/Non_Mask/real_01009.jpg' -> 'Face_Mask_Dataset/Validation/WithoutMask/real_01009.jpg'\n",
      "renamed 'New_Masks_Dataset/Validation/Non_Mask/real_01010.jpg' -> 'Face_Mask_Dataset/Validation/WithoutMask/real_01010.jpg'\n",
      "renamed 'New_Masks_Dataset/Validation/Non_Mask/real_01011.jpg' -> 'Face_Mask_Dataset/Validation/WithoutMask/real_01011.jpg'\n",
      "renamed 'New_Masks_Dataset/Validation/Non_Mask/real_01012.jpg' -> 'Face_Mask_Dataset/Validation/WithoutMask/real_01012.jpg'\n",
      "renamed 'New_Masks_Dataset/Validation/Non_Mask/real_01013.jpg' -> 'Face_Mask_Dataset/Validation/WithoutMask/real_01013.jpg'\n",
      "renamed 'New_Masks_Dataset/Validation/Non_Mask/real_01014.jpg' -> 'Face_Mask_Dataset/Validation/WithoutMask/real_01014.jpg'\n",
      "renamed 'New_Masks_Dataset/Validation/Non_Mask/real_01015.jpg' -> 'Face_Mask_Dataset/Validation/WithoutMask/real_01015.jpg'\n",
      "renamed 'New_Masks_Dataset/Validation/Non_Mask/real_01016.jpg' -> 'Face_Mask_Dataset/Validation/WithoutMask/real_01016.jpg'\n",
      "renamed 'New_Masks_Dataset/Validation/Non_Mask/real_01017.jpg' -> 'Face_Mask_Dataset/Validation/WithoutMask/real_01017.jpg'\n",
      "renamed 'New_Masks_Dataset/Validation/Non_Mask/real_01018.jpg' -> 'Face_Mask_Dataset/Validation/WithoutMask/real_01018.jpg'\n",
      "renamed 'New_Masks_Dataset/Validation/Non_Mask/real_01019.jpg' -> 'Face_Mask_Dataset/Validation/WithoutMask/real_01019.jpg'\n",
      "renamed 'New_Masks_Dataset/Validation/Non_Mask/real_01020.jpg' -> 'Face_Mask_Dataset/Validation/WithoutMask/real_01020.jpg'\n",
      "renamed 'New_Masks_Dataset/Validation/Non_Mask/real_01021.jpg' -> 'Face_Mask_Dataset/Validation/WithoutMask/real_01021.jpg'\n",
      "renamed 'New_Masks_Dataset/Validation/Non_Mask/real_01022.jpg' -> 'Face_Mask_Dataset/Validation/WithoutMask/real_01022.jpg'\n",
      "renamed 'New_Masks_Dataset/Validation/Non_Mask/real_01023.jpg' -> 'Face_Mask_Dataset/Validation/WithoutMask/real_01023.jpg'\n",
      "renamed 'New_Masks_Dataset/Validation/Non_Mask/real_01024.jpg' -> 'Face_Mask_Dataset/Validation/WithoutMask/real_01024.jpg'\n",
      "renamed 'New_Masks_Dataset/Validation/Non_Mask/real_01025.jpg' -> 'Face_Mask_Dataset/Validation/WithoutMask/real_01025.jpg'\n",
      "renamed 'New_Masks_Dataset/Validation/Non_Mask/real_01026.jpg' -> 'Face_Mask_Dataset/Validation/WithoutMask/real_01026.jpg'\n",
      "renamed 'New_Masks_Dataset/Validation/Non_Mask/real_01027.jpg' -> 'Face_Mask_Dataset/Validation/WithoutMask/real_01027.jpg'\n",
      "renamed 'New_Masks_Dataset/Validation/Non_Mask/real_01028.jpg' -> 'Face_Mask_Dataset/Validation/WithoutMask/real_01028.jpg'\n",
      "renamed 'New_Masks_Dataset/Validation/Non_Mask/real_01029.jpg' -> 'Face_Mask_Dataset/Validation/WithoutMask/real_01029.jpg'\n",
      "renamed 'New_Masks_Dataset/Validation/Non_Mask/real_01030.jpg' -> 'Face_Mask_Dataset/Validation/WithoutMask/real_01030.jpg'\n",
      "renamed 'New_Masks_Dataset/Validation/Non_Mask/real_01031.jpg' -> 'Face_Mask_Dataset/Validation/WithoutMask/real_01031.jpg'\n"
     ]
    }
   ],
   "source": [
    "#!mv  -v content/New_Masks_Dataset/Train/Non_Mask/* content/Face_Mask_Dataset/Train/WithoutMask/\n",
    "!mv  -v New_Masks_Dataset/Train/Non_Mask/* Face_Mask_Dataset/Train/WithoutMask/\n",
    "!mv  -v New_Masks_Dataset/Test/Non_Mask/* Face_Mask_Dataset/Test/WithoutMask/\n",
    "!mv  -v New_Masks_Dataset/Validation/Non_Mask/* Face_Mask_Dataset/Validation/WithoutMask/\n"
   ]
  },
  {
   "cell_type": "markdown",
   "metadata": {
    "id": "o7sjr1ZJfDV_"
   },
   "source": [
    "**Importing the liberaries and framework(tensorflow)**\n",
    "\n",
    "\n"
   ]
  },
  {
   "cell_type": "code",
   "execution_count": 7,
   "metadata": {
    "id": "9SA6inXwLgA6"
   },
   "outputs": [],
   "source": [
    "import keras \n",
    "from keras.models import * \n",
    "from keras.layers import * \n",
    "from keras.preprocessing import image\n",
    "import PIL\n",
    "from keras.preprocessing.image import ImageDataGenerator\n",
    "import numpy as np \n",
    "import pandas as pd\n",
    "import os\n",
    "from skimage.transform import resize\n",
    "from tqdm import tqdm\n",
    "from sklearn.model_selection import train_test_split\n",
    "import cv2 \n",
    "import random\n",
    "import matplotlib.pyplot as plt\n",
    "import matplotlib.image as mpimg\n",
    "from tensorflow.keras.preprocessing.image import img_to_array\n",
    "from tensorflow.keras.preprocessing.image import load_img\n",
    "from tensorflow.keras.utils import to_categorical\n",
    "from sklearn.preprocessing import LabelBinarizer\n",
    "from tensorflow.keras.preprocessing.image import ImageDataGenerator\n",
    "from keras.layers import Dense, Dropout,GlobalAveragePooling2D, Activation, Flatten, Conv2D, MaxPooling2D, MaxPool2D, BatchNormalization\n",
    "from keras import models, layers, optimizers\n",
    "from sklearn.metrics import confusion_matrix, accuracy_score\n",
    "from tensorflow.keras.optimizers import SGD, Adam, RMSprop\n",
    "from keras.models import Sequential\n",
    "from keras.callbacks import ModelCheckpoint,Callback, EarlyStopping, ReduceLROnPlateau\n",
    "from keras import backend as K\n",
    "import tensorflow as tf\n",
    "random.seed(180)"
   ]
  },
  {
   "cell_type": "markdown",
   "metadata": {
    "id": "fb_y5QupfaCg"
   },
   "source": [
    "**Pathing the data**"
   ]
  },
  {
   "cell_type": "code",
   "execution_count": 8,
   "metadata": {
    "id": "OtO05enHU-Qe"
   },
   "outputs": [],
   "source": [
    "traindir='/content/Face_Mask_Dataset/Train'\n",
    "validdir='/content/Face_Mask_Dataset/Validation'\n",
    "testdir='/content/Face_Mask_Dataset/Test'\n",
    "\n"
   ]
  },
  {
   "cell_type": "markdown",
   "metadata": {
    "id": "ufJ_NAUQf42P"
   },
   "source": [
    "**Creating Function to load the data**"
   ]
  },
  {
   "cell_type": "code",
   "execution_count": 9,
   "metadata": {
    "id": "qem-6CLKVyWP"
   },
   "outputs": [],
   "source": [
    "def load_data(image_list,label_list,path):\n",
    "    classes=['WithMask','WithoutMask']\n",
    "    for category in classes:\n",
    "        picList= os.listdir(path+\"/\"+str(category))\n",
    "        for pic in tqdm(picList):\n",
    "            image= cv2.imread(path+\"/\"+str(category)+\"/\"+pic)\n",
    "            image= cv2.resize(image,(128,128))\n",
    "            image = img_to_array(image)/255.0\n",
    "            image_list.append(image)\n",
    "            label_list.append(classes.index(category))\n",
    "    return image_list,label_list"
   ]
  },
  {
   "cell_type": "markdown",
   "metadata": {
    "id": "wSJ5-EDfgKv1"
   },
   "source": [
    "**Using the function to get images and labels for the dataset(Train, Test, Validation)**"
   ]
  },
  {
   "cell_type": "code",
   "execution_count": 10,
   "metadata": {
    "colab": {
     "base_uri": "https://localhost:8080/"
    },
    "id": "6zMQOg7aWC8m",
    "outputId": "7dddd707-cf7c-45d3-b22f-9ec2e522011c"
   },
   "outputs": [
    {
     "name": "stderr",
     "output_type": "stream",
     "text": [
      "100%|██████████| 5000/5000 [00:06<00:00, 725.09it/s]\n",
      "100%|██████████| 5300/5300 [00:04<00:00, 1315.04it/s]\n"
     ]
    }
   ],
   "source": [
    "train_images=[]\n",
    "train_labels=[]\n",
    "train_images,train_labels= load_data(train_images,train_labels,traindir)"
   ]
  },
  {
   "cell_type": "code",
   "execution_count": 11,
   "metadata": {
    "colab": {
     "base_uri": "https://localhost:8080/"
    },
    "id": "e_6xUbFKWC_G",
    "outputId": "d80caf5c-5ecf-4624-bf05-4c201ca3f340"
   },
   "outputs": [
    {
     "name": "stderr",
     "output_type": "stream",
     "text": [
      "100%|██████████| 400/400 [00:00<00:00, 741.59it/s]\n",
      "100%|██████████| 553/553 [00:01<00:00, 299.81it/s]\n"
     ]
    }
   ],
   "source": [
    "val_images=[]\n",
    "val_labels=[]\n",
    "val_images,val_labels= load_data(val_images,val_labels,validdir)"
   ]
  },
  {
   "cell_type": "code",
   "execution_count": 12,
   "metadata": {
    "colab": {
     "base_uri": "https://localhost:8080/"
    },
    "id": "aBUFEXtPWO-O",
    "outputId": "c24c6020-0713-4fcd-9c7a-42f7889ba339"
   },
   "outputs": [
    {
     "name": "stderr",
     "output_type": "stream",
     "text": [
      "100%|██████████| 483/483 [00:00<00:00, 735.44it/s]\n",
      "100%|██████████| 559/559 [00:00<00:00, 652.04it/s]\n"
     ]
    }
   ],
   "source": [
    "test_images=[]\n",
    "test_labels=[]\n",
    "test_images,test_labels= load_data(test_images,test_labels,testdir)"
   ]
  },
  {
   "cell_type": "markdown",
   "metadata": {
    "id": "NuppjRQBgufV"
   },
   "source": [
    "**Defining a function which converting list to array**"
   ]
  },
  {
   "cell_type": "code",
   "execution_count": 13,
   "metadata": {
    "id": "BTKgdyJRWPA2"
   },
   "outputs": [],
   "source": [
    "def convert_to_array(train_images,train_labels):\n",
    "    images = np.array(train_images)\n",
    "    labels = np.array(train_labels)\n",
    "    return images,labels"
   ]
  },
  {
   "cell_type": "code",
   "execution_count": 14,
   "metadata": {
    "id": "G_Wk5hidWbBo"
   },
   "outputs": [],
   "source": [
    "x_train,y_train= convert_to_array(train_images,train_labels)\n",
    "x_val,y_val= convert_to_array(val_images,val_labels)\n",
    "x_test,y_test= convert_to_array(test_images,test_labels)"
   ]
  },
  {
   "cell_type": "markdown",
   "metadata": {
    "id": "sD4x8TDzhdrG"
   },
   "source": [
    "**Deleting the unnecessary data to save memory**"
   ]
  },
  {
   "cell_type": "code",
   "execution_count": 15,
   "metadata": {
    "id": "5PocarJSWbEt"
   },
   "outputs": [],
   "source": [
    "del train_images\n",
    "del train_labels\n",
    "del val_images\n",
    "del val_labels\n",
    "del test_images\n",
    "del test_labels"
   ]
  },
  {
   "cell_type": "markdown",
   "metadata": {
    "id": "t20GUo0Bh4Mm"
   },
   "source": [
    "**Showing the shape for the dataset**"
   ]
  },
  {
   "cell_type": "code",
   "execution_count": 16,
   "metadata": {
    "colab": {
     "base_uri": "https://localhost:8080/"
    },
    "id": "Di84aKTgWhPB",
    "outputId": "82dba090-17b6-4511-adc4-3e7d5982b726"
   },
   "outputs": [
    {
     "name": "stdout",
     "output_type": "stream",
     "text": [
      "(10300, 128, 128, 3) (10300,) <class 'numpy.ndarray'> float32 int64\n",
      "(953, 128, 128, 3) (953,)\n",
      "(1042, 128, 128, 3) (1042,)\n"
     ]
    }
   ],
   "source": [
    "print(x_train.shape, y_train.shape, type(x_train), x_train.dtype,y_train.dtype)\n",
    "print(x_val.shape, y_val.shape)\n",
    "print(x_test.shape, y_test.shape)"
   ]
  },
  {
   "cell_type": "markdown",
   "metadata": {
    "id": "4YTnVOtwiSek"
   },
   "source": [
    "#**Converting the data to categorical format(One Hot Encoding) and showing the results**"
   ]
  },
  {
   "cell_type": "markdown",
   "metadata": {
    "id": "vbbqRvwWjAkW"
   },
   "source": [
    "**Before the converting**"
   ]
  },
  {
   "cell_type": "code",
   "execution_count": 17,
   "metadata": {
    "colab": {
     "base_uri": "https://localhost:8080/"
    },
    "id": "4iyF49kiWhSR",
    "outputId": "f569f3dd-679d-4a68-82bc-8a6433630954"
   },
   "outputs": [
    {
     "name": "stdout",
     "output_type": "stream",
     "text": [
      "0\n",
      "1\n",
      "1\n"
     ]
    }
   ],
   "source": [
    "print(y_train[650])\n",
    "print(y_val[650])\n",
    "print(y_test[650])"
   ]
  },
  {
   "cell_type": "code",
   "execution_count": 18,
   "metadata": {
    "id": "r1GfuyfJWhVV"
   },
   "outputs": [],
   "source": [
    "y_train= to_categorical(y_train)\n",
    "y_val= to_categorical(y_val)\n",
    "y_test= to_categorical(y_test)"
   ]
  },
  {
   "cell_type": "markdown",
   "metadata": {
    "id": "icHy0JMWjHSF"
   },
   "source": [
    "**After the converting**"
   ]
  },
  {
   "cell_type": "code",
   "execution_count": 19,
   "metadata": {
    "colab": {
     "base_uri": "https://localhost:8080/"
    },
    "id": "hvZjNUk7WbHv",
    "outputId": "d0d31929-5591-407b-ce50-15a29d4c916a"
   },
   "outputs": [
    {
     "name": "stdout",
     "output_type": "stream",
     "text": [
      "[1. 0.]\n",
      "[0. 1.]\n",
      "[0. 1.]\n"
     ]
    }
   ],
   "source": [
    "print(y_train[650])\n",
    "print(y_val[650])\n",
    "print(y_test[650])"
   ]
  },
  {
   "cell_type": "markdown",
   "metadata": {
    "id": "kRjR82BLjPVV"
   },
   "source": [
    "**lets augment our images in real-time while our model is still training like (Rotations - Random Shifts - Flips - Brightness)**"
   ]
  },
  {
   "cell_type": "code",
   "execution_count": 20,
   "metadata": {
    "id": "U_9B6qzSWuVo"
   },
   "outputs": [],
   "source": [
    "augmentation = ImageDataGenerator(  \n",
    "    height_shift_range= 0.2, \n",
    "    width_shift_range=0.2, \n",
    "    rotation_range=20,\n",
    "    shear_range=0.2,\n",
    "    zoom_range=0.15,\n",
    "    horizontal_flip=True,\n",
    "    fill_mode='nearest'\n",
    ")"
   ]
  },
  {
   "cell_type": "markdown",
   "metadata": {
    "id": "SNSXNM_SkPxQ"
   },
   "source": [
    "**Checkpoint and Callback to choose the best Val_loss**"
   ]
  },
  {
   "cell_type": "code",
   "execution_count": 21,
   "metadata": {
    "id": "dcY5tKyZWucD"
   },
   "outputs": [],
   "source": [
    "file_path=\"./model_weight.hdf5\"\n",
    "checkpoint = ModelCheckpoint(file_path, monitor='val_loss', verbose=1, save_best_only=True, mode='auto')\n",
    "early = EarlyStopping(monitor=\"val_loss\", mode='auto', patience=10,restore_best_weights=True)\n",
    "callbacks_list = [checkpoint,early]"
   ]
  },
  {
   "cell_type": "markdown",
   "metadata": {
    "id": "UJkzY02olTUP"
   },
   "source": [
    "**Modeling**"
   ]
  },
  {
   "cell_type": "code",
   "execution_count": 22,
   "metadata": {
    "colab": {
     "base_uri": "https://localhost:8080/"
    },
    "id": "A4MZVXO-WuiW",
    "outputId": "fe64eb78-b0c7-4f4d-8fac-1b114b0cf700"
   },
   "outputs": [
    {
     "name": "stdout",
     "output_type": "stream",
     "text": [
      "Model: \"sequential\"\n",
      "_________________________________________________________________\n",
      "Layer (type)                 Output Shape              Param #   \n",
      "=================================================================\n",
      "conv2d (Conv2D)              (None, 128, 128, 32)      896       \n",
      "_________________________________________________________________\n",
      "batch_normalization (BatchNo (None, 128, 128, 32)      128       \n",
      "_________________________________________________________________\n",
      "conv2d_1 (Conv2D)            (None, 128, 128, 32)      9248      \n",
      "_________________________________________________________________\n",
      "batch_normalization_1 (Batch (None, 128, 128, 32)      128       \n",
      "_________________________________________________________________\n",
      "max_pooling2d (MaxPooling2D) (None, 64, 64, 32)        0         \n",
      "_________________________________________________________________\n",
      "dropout (Dropout)            (None, 64, 64, 32)        0         \n",
      "_________________________________________________________________\n",
      "conv2d_2 (Conv2D)            (None, 64, 64, 64)        18496     \n",
      "_________________________________________________________________\n",
      "batch_normalization_2 (Batch (None, 64, 64, 64)        256       \n",
      "_________________________________________________________________\n",
      "conv2d_3 (Conv2D)            (None, 64, 64, 64)        36928     \n",
      "_________________________________________________________________\n",
      "batch_normalization_3 (Batch (None, 64, 64, 64)        256       \n",
      "_________________________________________________________________\n",
      "max_pooling2d_1 (MaxPooling2 (None, 32, 32, 64)        0         \n",
      "_________________________________________________________________\n",
      "dropout_1 (Dropout)          (None, 32, 32, 64)        0         \n",
      "_________________________________________________________________\n",
      "conv2d_4 (Conv2D)            (None, 32, 32, 128)       73856     \n",
      "_________________________________________________________________\n",
      "batch_normalization_4 (Batch (None, 32, 32, 128)       512       \n",
      "_________________________________________________________________\n",
      "conv2d_5 (Conv2D)            (None, 32, 32, 128)       147584    \n",
      "_________________________________________________________________\n",
      "batch_normalization_5 (Batch (None, 32, 32, 128)       512       \n",
      "_________________________________________________________________\n",
      "max_pooling2d_2 (MaxPooling2 (None, 16, 16, 128)       0         \n",
      "_________________________________________________________________\n",
      "dropout_2 (Dropout)          (None, 16, 16, 128)       0         \n",
      "_________________________________________________________________\n",
      "flatten (Flatten)            (None, 32768)             0         \n",
      "_________________________________________________________________\n",
      "dense (Dense)                (None, 128)               4194432   \n",
      "_________________________________________________________________\n",
      "batch_normalization_6 (Batch (None, 128)               512       \n",
      "_________________________________________________________________\n",
      "dropout_3 (Dropout)          (None, 128)               0         \n",
      "_________________________________________________________________\n",
      "dense_1 (Dense)              (None, 2)                 258       \n",
      "=================================================================\n",
      "Total params: 4,484,002\n",
      "Trainable params: 4,482,850\n",
      "Non-trainable params: 1,152\n",
      "_________________________________________________________________\n"
     ]
    }
   ],
   "source": [
    "model5=Sequential()\n",
    "model5.add(Conv2D(32,(3,3),activation='relu', input_shape=(128, 128, 3),padding='same'))\n",
    "model5.add(BatchNormalization())\n",
    "model5.add(Conv2D(32,(3,3),activation='relu', padding='same'))\n",
    "model5.add(BatchNormalization())\n",
    "model5.add(MaxPooling2D((2, 2)))\n",
    "model5.add(Dropout(0.2))\n",
    "\n",
    "model5.add(Conv2D(64,(3,3),activation='relu',padding='same'))\n",
    "model5.add(BatchNormalization())\n",
    "model5.add(Conv2D(64,(3,3),activation='relu',padding='same'))\n",
    "model5.add(BatchNormalization())\n",
    "model5.add(MaxPooling2D((2, 2)))\n",
    "model5.add(Dropout(0.2))\n",
    "\n",
    "\n",
    "model5.add(Conv2D(128,(3,3),activation='relu',padding='same'))\n",
    "model5.add(BatchNormalization())\n",
    "model5.add(Conv2D(128,(3,3),activation='relu',padding='same'))\n",
    "model5.add(BatchNormalization())\n",
    "model5.add(MaxPooling2D((2, 2)))\n",
    "model5.add(Dropout(0.2))\n",
    "\n",
    "\n",
    "model5.add(Flatten())\n",
    "model5.add(Dense(128, activation='relu'))\n",
    "model5.add(BatchNormalization())\n",
    "model5.add(Dropout(0.2))\n",
    "model5.add(Dense(2,activation='softmax'))\n",
    "model5.summary()"
   ]
  },
  {
   "cell_type": "markdown",
   "metadata": {
    "id": "BGNUoHjimElw"
   },
   "source": [
    "**Setting values to each variables and compiling**"
   ]
  },
  {
   "cell_type": "code",
   "execution_count": 23,
   "metadata": {
    "id": "ewcDL3A0XV4K"
   },
   "outputs": [],
   "source": [
    "INIT_LR, EPOCHS, BS=0.0001, 100, 32\n",
    "model5.compile(loss='binary_crossentropy', optimizer=Adam(learning_rate=0.0001,decay= INIT_LR/EPOCHS),metrics=['accuracy'])"
   ]
  },
  {
   "cell_type": "markdown",
   "metadata": {
    "id": "0Ttn4-Vsm_xQ"
   },
   "source": [
    "**Shuffling**"
   ]
  },
  {
   "cell_type": "code",
   "execution_count": 24,
   "metadata": {
    "id": "wGzzi6rRXV6w"
   },
   "outputs": [],
   "source": [
    "from sklearn.utils import shuffle\n",
    "x_val,y_val= shuffle(x_val,y_val)"
   ]
  },
  {
   "cell_type": "markdown",
   "metadata": {
    "id": "Sa6zsEy8nGKh"
   },
   "source": [
    "**Fitting the model**"
   ]
  },
  {
   "cell_type": "code",
   "execution_count": 25,
   "metadata": {
    "colab": {
     "base_uri": "https://localhost:8080/"
    },
    "id": "TGdh_iy6Xdsx",
    "outputId": "2a724974-fa63-40d8-9ba5-ee0569eea9bb"
   },
   "outputs": [
    {
     "name": "stdout",
     "output_type": "stream",
     "text": [
      "Epoch 1/100\n",
      "321/321 [==============================] - 78s 140ms/step - loss: 0.2184 - accuracy: 0.9195 - val_loss: 0.7076 - val_accuracy: 0.7891\n",
      "\n",
      "Epoch 00001: val_loss improved from inf to 0.70764, saving model to ./model_weight.hdf5\n",
      "Epoch 2/100\n",
      "321/321 [==============================] - 42s 132ms/step - loss: 0.1629 - accuracy: 0.9413 - val_loss: 0.1251 - val_accuracy: 0.9601\n",
      "\n",
      "Epoch 00002: val_loss improved from 0.70764 to 0.12511, saving model to ./model_weight.hdf5\n",
      "Epoch 3/100\n",
      "321/321 [==============================] - 42s 132ms/step - loss: 0.1377 - accuracy: 0.9508 - val_loss: 0.1238 - val_accuracy: 0.9517\n",
      "\n",
      "Epoch 00003: val_loss improved from 0.12511 to 0.12383, saving model to ./model_weight.hdf5\n",
      "Epoch 4/100\n",
      "321/321 [==============================] - 42s 131ms/step - loss: 0.1129 - accuracy: 0.9598 - val_loss: 0.1353 - val_accuracy: 0.9559\n",
      "\n",
      "Epoch 00004: val_loss did not improve from 0.12383\n",
      "Epoch 5/100\n",
      "321/321 [==============================] - 42s 130ms/step - loss: 0.1017 - accuracy: 0.9669 - val_loss: 0.0946 - val_accuracy: 0.9664\n",
      "\n",
      "Epoch 00005: val_loss improved from 0.12383 to 0.09460, saving model to ./model_weight.hdf5\n",
      "Epoch 6/100\n",
      "321/321 [==============================] - 43s 133ms/step - loss: 0.0904 - accuracy: 0.9697 - val_loss: 0.0933 - val_accuracy: 0.9622\n",
      "\n",
      "Epoch 00006: val_loss improved from 0.09460 to 0.09328, saving model to ./model_weight.hdf5\n",
      "Epoch 7/100\n",
      "321/321 [==============================] - 42s 132ms/step - loss: 0.0808 - accuracy: 0.9718 - val_loss: 0.0774 - val_accuracy: 0.9717\n",
      "\n",
      "Epoch 00007: val_loss improved from 0.09328 to 0.07737, saving model to ./model_weight.hdf5\n",
      "Epoch 8/100\n",
      "321/321 [==============================] - 42s 131ms/step - loss: 0.0766 - accuracy: 0.9764 - val_loss: 0.0466 - val_accuracy: 0.9822\n",
      "\n",
      "Epoch 00008: val_loss improved from 0.07737 to 0.04662, saving model to ./model_weight.hdf5\n",
      "Epoch 9/100\n",
      "321/321 [==============================] - 42s 131ms/step - loss: 0.0709 - accuracy: 0.9763 - val_loss: 0.0587 - val_accuracy: 0.9769\n",
      "\n",
      "Epoch 00009: val_loss did not improve from 0.04662\n",
      "Epoch 10/100\n",
      "321/321 [==============================] - 43s 133ms/step - loss: 0.0701 - accuracy: 0.9751 - val_loss: 0.0593 - val_accuracy: 0.9717\n",
      "\n",
      "Epoch 00010: val_loss did not improve from 0.04662\n",
      "Epoch 11/100\n",
      "321/321 [==============================] - 42s 131ms/step - loss: 0.0575 - accuracy: 0.9802 - val_loss: 0.0812 - val_accuracy: 0.9664\n",
      "\n",
      "Epoch 00011: val_loss did not improve from 0.04662\n",
      "Epoch 12/100\n",
      "321/321 [==============================] - 42s 132ms/step - loss: 0.0587 - accuracy: 0.9808 - val_loss: 0.0588 - val_accuracy: 0.9769\n",
      "\n",
      "Epoch 00012: val_loss did not improve from 0.04662\n",
      "Epoch 13/100\n",
      "321/321 [==============================] - 42s 132ms/step - loss: 0.0582 - accuracy: 0.9838 - val_loss: 0.0466 - val_accuracy: 0.9895\n",
      "\n",
      "Epoch 00013: val_loss did not improve from 0.04662\n",
      "Epoch 14/100\n",
      "321/321 [==============================] - 43s 133ms/step - loss: 0.0550 - accuracy: 0.9818 - val_loss: 0.0556 - val_accuracy: 0.9801\n",
      "\n",
      "Epoch 00014: val_loss did not improve from 0.04662\n",
      "Epoch 15/100\n",
      "321/321 [==============================] - 42s 132ms/step - loss: 0.0476 - accuracy: 0.9847 - val_loss: 0.0559 - val_accuracy: 0.9811\n",
      "\n",
      "Epoch 00015: val_loss did not improve from 0.04662\n",
      "Epoch 16/100\n",
      "321/321 [==============================] - 42s 132ms/step - loss: 0.0462 - accuracy: 0.9840 - val_loss: 0.0432 - val_accuracy: 0.9864\n",
      "\n",
      "Epoch 00016: val_loss improved from 0.04662 to 0.04320, saving model to ./model_weight.hdf5\n",
      "Epoch 17/100\n",
      "321/321 [==============================] - 42s 132ms/step - loss: 0.0404 - accuracy: 0.9869 - val_loss: 0.0663 - val_accuracy: 0.9759\n",
      "\n",
      "Epoch 00017: val_loss did not improve from 0.04320\n",
      "Epoch 18/100\n",
      "321/321 [==============================] - 42s 132ms/step - loss: 0.0407 - accuracy: 0.9863 - val_loss: 0.0731 - val_accuracy: 0.9759\n",
      "\n",
      "Epoch 00018: val_loss did not improve from 0.04320\n",
      "Epoch 19/100\n",
      "321/321 [==============================] - 43s 133ms/step - loss: 0.0456 - accuracy: 0.9846 - val_loss: 0.0853 - val_accuracy: 0.9675\n",
      "\n",
      "Epoch 00019: val_loss did not improve from 0.04320\n",
      "Epoch 20/100\n",
      "321/321 [==============================] - 42s 131ms/step - loss: 0.0358 - accuracy: 0.9884 - val_loss: 0.0644 - val_accuracy: 0.9769\n",
      "\n",
      "Epoch 00020: val_loss did not improve from 0.04320\n",
      "Epoch 21/100\n",
      "321/321 [==============================] - 42s 132ms/step - loss: 0.0357 - accuracy: 0.9884 - val_loss: 0.0491 - val_accuracy: 0.9822\n",
      "\n",
      "Epoch 00021: val_loss did not improve from 0.04320\n",
      "Epoch 22/100\n",
      "321/321 [==============================] - 42s 132ms/step - loss: 0.0336 - accuracy: 0.9883 - val_loss: 0.1085 - val_accuracy: 0.9706\n",
      "\n",
      "Epoch 00022: val_loss did not improve from 0.04320\n",
      "Epoch 23/100\n",
      "321/321 [==============================] - 42s 130ms/step - loss: 0.0307 - accuracy: 0.9900 - val_loss: 0.0469 - val_accuracy: 0.9874\n",
      "\n",
      "Epoch 00023: val_loss did not improve from 0.04320\n",
      "Epoch 24/100\n",
      "321/321 [==============================] - 42s 131ms/step - loss: 0.0338 - accuracy: 0.9886 - val_loss: 0.0393 - val_accuracy: 0.9853\n",
      "\n",
      "Epoch 00024: val_loss improved from 0.04320 to 0.03927, saving model to ./model_weight.hdf5\n",
      "Epoch 25/100\n",
      "321/321 [==============================] - 42s 130ms/step - loss: 0.0362 - accuracy: 0.9884 - val_loss: 0.0589 - val_accuracy: 0.9769\n",
      "\n",
      "Epoch 00025: val_loss did not improve from 0.03927\n",
      "Epoch 26/100\n",
      "321/321 [==============================] - 42s 131ms/step - loss: 0.0280 - accuracy: 0.9906 - val_loss: 0.1961 - val_accuracy: 0.9381\n",
      "\n",
      "Epoch 00026: val_loss did not improve from 0.03927\n",
      "Epoch 27/100\n",
      "321/321 [==============================] - 42s 130ms/step - loss: 0.0346 - accuracy: 0.9891 - val_loss: 0.0286 - val_accuracy: 0.9906\n",
      "\n",
      "Epoch 00027: val_loss improved from 0.03927 to 0.02863, saving model to ./model_weight.hdf5\n",
      "Epoch 28/100\n",
      "321/321 [==============================] - 42s 131ms/step - loss: 0.0267 - accuracy: 0.9904 - val_loss: 0.0431 - val_accuracy: 0.9843\n",
      "\n",
      "Epoch 00028: val_loss did not improve from 0.02863\n",
      "Epoch 29/100\n",
      "321/321 [==============================] - 42s 130ms/step - loss: 0.0265 - accuracy: 0.9920 - val_loss: 0.2563 - val_accuracy: 0.9276\n",
      "\n",
      "Epoch 00029: val_loss did not improve from 0.02863\n",
      "Epoch 30/100\n",
      "321/321 [==============================] - 41s 129ms/step - loss: 0.0303 - accuracy: 0.9908 - val_loss: 0.0583 - val_accuracy: 0.9801\n",
      "\n",
      "Epoch 00030: val_loss did not improve from 0.02863\n",
      "Epoch 31/100\n",
      "321/321 [==============================] - 41s 128ms/step - loss: 0.0224 - accuracy: 0.9923 - val_loss: 0.0285 - val_accuracy: 0.9927\n",
      "\n",
      "Epoch 00031: val_loss improved from 0.02863 to 0.02851, saving model to ./model_weight.hdf5\n",
      "Epoch 32/100\n",
      "321/321 [==============================] - 41s 129ms/step - loss: 0.0225 - accuracy: 0.9922 - val_loss: 0.0405 - val_accuracy: 0.9874\n",
      "\n",
      "Epoch 00032: val_loss did not improve from 0.02851\n",
      "Epoch 33/100\n",
      "321/321 [==============================] - 42s 130ms/step - loss: 0.0280 - accuracy: 0.9908 - val_loss: 0.0236 - val_accuracy: 0.9937\n",
      "\n",
      "Epoch 00033: val_loss improved from 0.02851 to 0.02358, saving model to ./model_weight.hdf5\n",
      "Epoch 34/100\n",
      "321/321 [==============================] - 42s 131ms/step - loss: 0.0196 - accuracy: 0.9947 - val_loss: 0.0863 - val_accuracy: 0.9780\n",
      "\n",
      "Epoch 00034: val_loss did not improve from 0.02358\n",
      "Epoch 35/100\n",
      "321/321 [==============================] - 42s 131ms/step - loss: 0.0257 - accuracy: 0.9912 - val_loss: 0.0476 - val_accuracy: 0.9843\n",
      "\n",
      "Epoch 00035: val_loss did not improve from 0.02358\n",
      "Epoch 36/100\n",
      "321/321 [==============================] - 41s 129ms/step - loss: 0.0217 - accuracy: 0.9931 - val_loss: 0.0531 - val_accuracy: 0.9790\n",
      "\n",
      "Epoch 00036: val_loss did not improve from 0.02358\n",
      "Epoch 37/100\n",
      "321/321 [==============================] - 43s 133ms/step - loss: 0.0194 - accuracy: 0.9943 - val_loss: 0.0349 - val_accuracy: 0.9864\n",
      "\n",
      "Epoch 00037: val_loss did not improve from 0.02358\n",
      "Epoch 38/100\n",
      "321/321 [==============================] - 43s 132ms/step - loss: 0.0187 - accuracy: 0.9944 - val_loss: 0.0431 - val_accuracy: 0.9885\n",
      "\n",
      "Epoch 00038: val_loss did not improve from 0.02358\n",
      "Epoch 39/100\n",
      "321/321 [==============================] - 42s 131ms/step - loss: 0.0201 - accuracy: 0.9932 - val_loss: 0.0236 - val_accuracy: 0.9906\n",
      "\n",
      "Epoch 00039: val_loss did not improve from 0.02358\n",
      "Epoch 40/100\n",
      "321/321 [==============================] - 44s 136ms/step - loss: 0.0248 - accuracy: 0.9916 - val_loss: 0.0751 - val_accuracy: 0.9790\n",
      "\n",
      "Epoch 00040: val_loss did not improve from 0.02358\n",
      "Epoch 41/100\n",
      "321/321 [==============================] - 43s 134ms/step - loss: 0.0246 - accuracy: 0.9930 - val_loss: 0.0192 - val_accuracy: 0.9958\n",
      "\n",
      "Epoch 00041: val_loss improved from 0.02358 to 0.01918, saving model to ./model_weight.hdf5\n",
      "Epoch 42/100\n",
      "321/321 [==============================] - 42s 130ms/step - loss: 0.0257 - accuracy: 0.9911 - val_loss: 0.0527 - val_accuracy: 0.9843\n",
      "\n",
      "Epoch 00042: val_loss did not improve from 0.01918\n",
      "Epoch 43/100\n",
      "321/321 [==============================] - 42s 130ms/step - loss: 0.0145 - accuracy: 0.9956 - val_loss: 0.0651 - val_accuracy: 0.9843\n",
      "\n",
      "Epoch 00043: val_loss did not improve from 0.01918\n",
      "Epoch 44/100\n",
      "321/321 [==============================] - 42s 130ms/step - loss: 0.0193 - accuracy: 0.9938 - val_loss: 0.0385 - val_accuracy: 0.9874\n",
      "\n",
      "Epoch 00044: val_loss did not improve from 0.01918\n",
      "Epoch 45/100\n",
      "321/321 [==============================] - 42s 130ms/step - loss: 0.0162 - accuracy: 0.9951 - val_loss: 0.0337 - val_accuracy: 0.9916\n",
      "\n",
      "Epoch 00045: val_loss did not improve from 0.01918\n",
      "Epoch 46/100\n",
      "321/321 [==============================] - 42s 131ms/step - loss: 0.0164 - accuracy: 0.9948 - val_loss: 0.0210 - val_accuracy: 0.9927\n",
      "\n",
      "Epoch 00046: val_loss did not improve from 0.01918\n",
      "Epoch 47/100\n",
      "321/321 [==============================] - 42s 131ms/step - loss: 0.0159 - accuracy: 0.9951 - val_loss: 0.0295 - val_accuracy: 0.9906\n",
      "\n",
      "Epoch 00047: val_loss did not improve from 0.01918\n",
      "Epoch 48/100\n",
      "321/321 [==============================] - 42s 131ms/step - loss: 0.0146 - accuracy: 0.9952 - val_loss: 0.0475 - val_accuracy: 0.9853\n",
      "\n",
      "Epoch 00048: val_loss did not improve from 0.01918\n",
      "Epoch 49/100\n",
      "321/321 [==============================] - 42s 130ms/step - loss: 0.0138 - accuracy: 0.9966 - val_loss: 0.0442 - val_accuracy: 0.9895\n",
      "\n",
      "Epoch 00049: val_loss did not improve from 0.01918\n",
      "Epoch 50/100\n",
      "321/321 [==============================] - 42s 129ms/step - loss: 0.0166 - accuracy: 0.9943 - val_loss: 0.0173 - val_accuracy: 0.9937\n",
      "\n",
      "Epoch 00050: val_loss improved from 0.01918 to 0.01729, saving model to ./model_weight.hdf5\n",
      "Epoch 51/100\n",
      "321/321 [==============================] - 42s 131ms/step - loss: 0.0171 - accuracy: 0.9942 - val_loss: 0.1429 - val_accuracy: 0.9591\n",
      "\n",
      "Epoch 00051: val_loss did not improve from 0.01729\n",
      "Epoch 52/100\n",
      "321/321 [==============================] - 42s 129ms/step - loss: 0.0149 - accuracy: 0.9944 - val_loss: 0.0338 - val_accuracy: 0.9885\n",
      "\n",
      "Epoch 00052: val_loss did not improve from 0.01729\n",
      "Epoch 53/100\n",
      "321/321 [==============================] - 41s 129ms/step - loss: 0.0168 - accuracy: 0.9947 - val_loss: 0.0611 - val_accuracy: 0.9801\n",
      "\n",
      "Epoch 00053: val_loss did not improve from 0.01729\n",
      "Epoch 54/100\n",
      "321/321 [==============================] - 41s 129ms/step - loss: 0.0137 - accuracy: 0.9956 - val_loss: 0.0183 - val_accuracy: 0.9906\n",
      "\n",
      "Epoch 00054: val_loss did not improve from 0.01729\n",
      "Epoch 55/100\n",
      "321/321 [==============================] - 41s 129ms/step - loss: 0.0144 - accuracy: 0.9959 - val_loss: 0.0325 - val_accuracy: 0.9885\n",
      "\n",
      "Epoch 00055: val_loss did not improve from 0.01729\n",
      "Epoch 56/100\n",
      "321/321 [==============================] - 41s 129ms/step - loss: 0.0112 - accuracy: 0.9963 - val_loss: 0.0230 - val_accuracy: 0.9916\n",
      "\n",
      "Epoch 00056: val_loss did not improve from 0.01729\n",
      "Epoch 57/100\n",
      "321/321 [==============================] - 41s 129ms/step - loss: 0.0120 - accuracy: 0.9961 - val_loss: 0.0305 - val_accuracy: 0.9927\n",
      "\n",
      "Epoch 00057: val_loss did not improve from 0.01729\n",
      "Epoch 58/100\n",
      "321/321 [==============================] - 42s 129ms/step - loss: 0.0157 - accuracy: 0.9948 - val_loss: 0.0515 - val_accuracy: 0.9874\n",
      "\n",
      "Epoch 00058: val_loss did not improve from 0.01729\n",
      "Epoch 59/100\n",
      "321/321 [==============================] - 41s 129ms/step - loss: 0.0134 - accuracy: 0.9950 - val_loss: 0.0690 - val_accuracy: 0.9906\n",
      "\n",
      "Epoch 00059: val_loss did not improve from 0.01729\n",
      "Epoch 60/100\n",
      "321/321 [==============================] - 41s 129ms/step - loss: 0.0144 - accuracy: 0.9954 - val_loss: 0.0289 - val_accuracy: 0.9916\n",
      "\n",
      "Epoch 00060: val_loss did not improve from 0.01729\n"
     ]
    }
   ],
   "source": [
    "history = model5.fit(\n",
    "    augmentation.flow(x_train,y_train,batch_size=BS,shuffle=True),\n",
    "    steps_per_epoch= len(x_train)//BS,\n",
    "    validation_data=(x_val,y_val),\n",
    "    validation_steps= len(x_val)//BS,\n",
    "    epochs= EPOCHS,\n",
    "    callbacks=[callbacks_list],\n",
    "    verbose=1\n",
    ")"
   ]
  },
  {
   "cell_type": "markdown",
   "metadata": {
    "id": "Z0fr1GUWnWqs"
   },
   "source": [
    "**Visualizing loss and accuracy for the epochs**"
   ]
  },
  {
   "cell_type": "code",
   "execution_count": 26,
   "metadata": {
    "id": "5viFLvqwXdu-"
   },
   "outputs": [],
   "source": [
    "def plot_learning_curve(history):\n",
    "    plt.figure(figsize=(18,9))\n",
    "    plt.subplot(1,2,1)\n",
    "    plt.plot(history.history['accuracy'])\n",
    "    plt.plot(history.history['val_accuracy'])\n",
    "    plt.title('model accuracy')\n",
    "    plt.ylabel('accuracy')\n",
    "    plt.xlabel('epoch')\n",
    "    plt.ylim(0, 1)\n",
    "    plt.legend(['train', 'val'], loc='upper left')\n",
    "    plt.savefig('./accuracy_curve.png')\n",
    "    plt.subplot(1,2,2)\n",
    "    plt.plot(history.history['loss'])\n",
    "    plt.plot(history.history['val_loss'])\n",
    "    plt.title('model loss')\n",
    "    plt.ylabel('loss')\n",
    "    plt.xlabel('epoch')\n",
    "    plt.ylim(0, 1)\n",
    "    plt.legend(['train', 'val'], loc='upper left')\n",
    "    plt.savefig('./loss_curve.png')"
   ]
  },
  {
   "cell_type": "code",
   "execution_count": 27,
   "metadata": {
    "colab": {
     "base_uri": "https://localhost:8080/",
     "height": 366
    },
    "id": "GB7aI0q7Njvp",
    "outputId": "4104a2cd-4c1f-4774-9c0d-37f6cb3ade2d"
   },
   "outputs": [
    {
     "data": {
      "image/png": "[encoded data removed]",
      "text/plain": [
       "<Figure size 1296x648 with 2 Axes>"
      ]
     },
     "metadata": {
      "needs_background": "light"
     },
     "output_type": "display_data"
    }
   ],
   "source": [
    "plot_learning_curve(history)\n",
    "plt.show()"
   ]
  },
  {
   "cell_type": "code",
   "execution_count": 28,
   "metadata": {
    "colab": {
     "base_uri": "https://localhost:8080/"
    },
    "id": "MfHzoCJJpMTQ",
    "outputId": "d935a9f5-ce09-4202-99da-4c173d7d0cc8"
   },
   "outputs": [
    {
     "name": "stdout",
     "output_type": "stream",
     "text": [
      "33/33 [==============================] - 1s 28ms/step - loss: 0.0209 - accuracy: 0.9933\n",
      "Loss: 0.020885441452264786 \t\tAccuracy: 0.9932821393013\n"
     ]
    }
   ],
   "source": [
    "model5.load_weights(\"./model_weight.hdf5\")\n",
    "score=model5.evaluate(x_test,y_test)\n",
    "print(\"Loss: {} \\t\\tAccuracy: {}\".format(score[0],score[1]))"
   ]
  },
  {
   "cell_type": "markdown",
   "metadata": {
    "id": "O35SwbSAn3tE"
   },
   "source": [
    "**Predicting**"
   ]
  },
  {
   "cell_type": "code",
   "execution_count": 29,
   "metadata": {
    "id": "O4CxIJ_kpSmO"
   },
   "outputs": [],
   "source": [
    "y_pred = model5.predict(x_test,batch_size=BS)\n",
    "Y_pred = np.argmax(y_pred,axis = 1)\n",
    "Y_true = np.argmax(y_test,axis = 1)"
   ]
  },
  {
   "cell_type": "markdown",
   "metadata": {
    "id": "pufd1Y52oMHA"
   },
   "source": [
    "**Classification report**"
   ]
  },
  {
   "cell_type": "code",
   "execution_count": 30,
   "metadata": {
    "colab": {
     "base_uri": "https://localhost:8080/"
    },
    "id": "jRZ1SU1HpSpo",
    "outputId": "ec92a977-cc2e-44ba-ac45-55a7f07b5215"
   },
   "outputs": [
    {
     "name": "stdout",
     "output_type": "stream",
     "text": [
      "              precision    recall  f1-score   support\n",
      "\n",
      "    WithMask       0.99      1.00      0.99       483\n",
      " WithoutMask       1.00      0.99      0.99       559\n",
      "\n",
      "    accuracy                           0.99      1042\n",
      "   macro avg       0.99      0.99      0.99      1042\n",
      "weighted avg       0.99      0.99      0.99      1042\n",
      "\n"
     ]
    }
   ],
   "source": [
    "from sklearn.metrics import classification_report\n",
    "print(classification_report(Y_true,Y_pred,target_names=['WithMask','WithoutMask']))"
   ]
  },
  {
   "cell_type": "markdown",
   "metadata": {
    "id": "7k9OLur3octO"
   },
   "source": [
    "**Visualizing the results by using confusion matrix**"
   ]
  },
  {
   "cell_type": "code",
   "execution_count": 31,
   "metadata": {
    "id": "j1-w4kdKpiI6"
   },
   "outputs": [],
   "source": [
    "import itertools\n",
    "def plot_confusion_matrix(cm, classes,\n",
    "                          normalize=False,\n",
    "                          title='Confusion matrix',\n",
    "                          cmap=plt.cm.Blues):\n",
    "    if normalize:\n",
    "        cm = cm.astype('float') / cm.sum(axis=1)[:, np.newaxis]\n",
    "\n",
    "    plt.imshow(cm, interpolation='nearest', cmap=cmap)\n",
    "    plt.title(title)\n",
    "    plt.colorbar()\n",
    "    tick_marks = np.arange(len(classes))\n",
    "    plt.xticks(tick_marks, classes, rotation=90)\n",
    "    plt.yticks(tick_marks, classes)\n",
    "\n",
    "    fmt = '.2f' if normalize else 'd'\n",
    "    thresh = cm.max() / 2.\n",
    "    for i, j in itertools.product(range(cm.shape[0]), range(cm.shape[1])):\n",
    "        plt.text(j, i, format(cm[i, j], fmt),\n",
    "                 horizontalalignment=\"center\",\n",
    "                 color=\"white\" if cm[i, j] > thresh else \"black\")\n",
    "\n",
    "    plt.tight_layout()\n",
    "    plt.ylabel('True label')\n",
    "    plt.xlabel('Predicted label')\n",
    "    plt.savefig('./confusion_matrix.png')"
   ]
  },
  {
   "cell_type": "code",
   "execution_count": 32,
   "metadata": {
    "colab": {
     "base_uri": "https://localhost:8080/",
     "height": 436
    },
    "id": "nQVWKELZpStX",
    "outputId": "960b1d5d-4281-479a-8c00-74fcb69bc60d"
   },
   "outputs": [
    {
     "data": {
      "image/png": "[encoded data removed]",
      "text/plain": [
       "<Figure size 432x432 with 2 Axes>"
      ]
     },
     "metadata": {
      "needs_background": "light"
     },
     "output_type": "display_data"
    }
   ],
   "source": [
    "# confusion matrix\n",
    "cm = confusion_matrix(Y_true, Y_pred)        \n",
    "# plot confusin matrix\n",
    "plt.figure(figsize=(6,6))\n",
    "plt.grid(b=False)\n",
    "plot_confusion_matrix(cm, classes=['WithMask','WithoutMask'], normalize=False, \n",
    "                      title='Confusion matrix', cmap = plt.cm.Blues)\n",
    "plt.show()"
   ]
  },
  {
   "cell_type": "markdown",
   "metadata": {
    "id": "zdis0XaGpIUu"
   },
   "source": [
    "**Saving the model to reuse it later.**"
   ]
  },
  {
   "cell_type": "code",
   "execution_count": 33,
   "metadata": {
    "id": "mbEuMpDSrK2Y"
   },
   "outputs": [],
   "source": [
    "model5.save('/content/mymodel.h5', save_format='h5')\n"
   ]
  },
  {
   "cell_type": "code",
   "execution_count": 34,
   "metadata": {
    "id": "AJ1neOxhryLp"
   },
   "outputs": [],
   "source": [
    "tal3ot = keras.models.load_model('/content/mymodel.h5')\n"
   ]
  },
  {
   "cell_type": "code",
   "execution_count": 36,
   "metadata": {
    "colab": {
     "base_uri": "https://localhost:8080/"
    },
    "id": "pwbNr_juG1pM",
    "outputId": "86cf807c-917c-41b8-c41c-d26318428b04"
   },
   "outputs": [
    {
     "data": {
      "text/plain": [
       "array([[1.0000000e+00, 2.0944417e-10],\n",
       "       [1.0000000e+00, 2.7952426e-13],\n",
       "       [9.9999845e-01, 1.5286723e-06],\n",
       "       ...,\n",
       "       [1.7750261e-05, 9.9998224e-01],\n",
       "       [3.4349904e-12, 1.0000000e+00],\n",
       "       [1.3342213e-10, 1.0000000e+00]], dtype=float32)"
      ]
     },
     "execution_count": 36,
     "metadata": {},
     "output_type": "execute_result"
    }
   ],
   "source": [
    "model5.predict(x_test)"
   ]
  },
  {
   "cell_type": "code",
   "execution_count": 44,
   "metadata": {
    "id": "FJvFsJLoHCve"
   },
   "outputs": [],
   "source": [
    "mmm = cv2.imread('/content/1.png')\n",
    "\n",
    "mmm = cv2.resize(mmm,(128,128))\n",
    "mmm = img_to_array(mmm)/255.0\n",
    "mmm,_ = convert_to_array([mmm], [1])"
   ]
  },
  {
   "cell_type": "code",
   "execution_count": 45,
   "metadata": {
    "colab": {
     "base_uri": "https://localhost:8080/"
    },
    "id": "FcysD0LEHCys",
    "outputId": "fdb41f74-5b2e-462d-c60f-aef4e094c5ad"
   },
   "outputs": [
    {
     "data": {
      "text/plain": [
       "array([[4.227282e-06, 9.999958e-01]], dtype=float32)"
      ]
     },
     "execution_count": 45,
     "metadata": {},
     "output_type": "execute_result"
    }
   ],
   "source": [
    "model5.predict(mmm)"
   ]
  },
  {
   "cell_type": "code",
   "execution_count": 1,
   "metadata": {},
   "outputs": [],
   "source": [
    "import matplotlib.pyplot as plt\n",
    "import numpy as np"
   ]
  },
  {
   "cell_type": "code",
   "execution_count": 2,
   "metadata": {
    "id": "FNkKjE08HC01"
   },
   "outputs": [],
   "source": [
    "import itertools\n",
    "def plot_confusion_matrix(cm, classes,\n",
    "                          normalize=False,\n",
    "                          title='Confusion matrix',\n",
    "                          cmap=plt.cm.Blues):\n",
    "    if normalize:\n",
    "        cm = cm.astype('float') / cm.sum(axis=1)[:, np.newaxis]\n",
    "\n",
    "    plt.imshow(cm, interpolation='nearest', cmap=cmap)\n",
    "    plt.title(title)\n",
    "    plt.colorbar()\n",
    "    tick_marks = np.arange(len(classes))\n",
    "    plt.xticks(tick_marks, classes, rotation=90)\n",
    "    plt.yticks(tick_marks, classes)\n",
    "\n",
    "    fmt = '.2f' if normalize else 'd'\n",
    "    thresh = 245\n",
    "    for i, j in itertools.product(range(cm.shape[0]), range(cm.shape[1])):\n",
    "        plt.text(j, i, format(cm[i, j], fmt),\n",
    "                 horizontalalignment=\"center\",\n",
    "                 color=\"white\" if cm[i, j] > thresh else \"black\")\n",
    "\n",
    "    plt.tight_layout()\n",
    "    plt.ylabel('True label')\n",
    "    plt.xlabel('Predicted label')\n",
    "    plt.savefig('./confusion_matrix.png')"
   ]
  },
  {
   "cell_type": "code",
   "execution_count": 5,
   "metadata": {},
   "outputs": [],
   "source": [
    "cm = np.array([[243, 240], [243, 260]])"
   ]
  },
  {
   "cell_type": "code",
   "execution_count": 6,
   "metadata": {},
   "outputs": [
    {
     "data": {
      "image/png": "[encoded data removed]",
      "text/plain": [
       "<Figure size 432x288 with 2 Axes>"
      ]
     },
     "metadata": {
      "needs_background": "light"
     },
     "output_type": "display_data"
    }
   ],
   "source": [
    "plot_confusion_matrix(cm, ['WithMask','WithoutMask'])"
   ]
  },
  {
   "cell_type": "code",
   "execution_count": null,
   "metadata": {},
   "outputs": [],
   "source": []
  }
 ],
 "metadata": {
  "colab": {
   "name": "Best Result Model.ipynb",
   "provenance": []
  },
  "kernelspec": {
   "display_name": "Python 3",
   "language": "python",
   "name": "python3"
  },
  "language_info": {
   "codemirror_mode": {
    "name": "ipython",
    "version": 3
   },
   "file_extension": ".py",
   "mimetype": "text/x-python",
   "name": "python",
   "nbconvert_exporter": "python",
   "pygments_lexer": "ipython3",
   "version": "3.8.8"
  }
 },
 "nbformat": 4,
 "nbformat_minor": 1
}
